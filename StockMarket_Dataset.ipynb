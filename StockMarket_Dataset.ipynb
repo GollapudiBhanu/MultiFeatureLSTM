{
  "nbformat": 4,
  "nbformat_minor": 0,
  "metadata": {
    "colab": {
      "name": "StockMarket_Dataset.ipynb",
      "provenance": [],
      "collapsed_sections": []
    },
    "kernelspec": {
      "name": "python3",
      "display_name": "Python 3"
    },
    "language_info": {
      "name": "python"
    }
  },
  "cells": [
    {
      "cell_type": "code",
      "metadata": {
        "colab": {
          "base_uri": "https://localhost:8080/"
        },
        "id": "38vkjX-qwp6a",
        "outputId": "785865e5-e70b-4853-ddee-5661f005019a"
      },
      "source": [
        "!pip install lightgbm"
      ],
      "execution_count": 228,
      "outputs": [
        {
          "output_type": "stream",
          "name": "stdout",
          "text": [
            "Requirement already satisfied: lightgbm in /usr/local/lib/python3.7/dist-packages (2.2.3)\n",
            "Requirement already satisfied: numpy in /usr/local/lib/python3.7/dist-packages (from lightgbm) (1.19.5)\n",
            "Requirement already satisfied: scikit-learn in /usr/local/lib/python3.7/dist-packages (from lightgbm) (0.22.2.post1)\n",
            "Requirement already satisfied: scipy in /usr/local/lib/python3.7/dist-packages (from lightgbm) (1.4.1)\n",
            "Requirement already satisfied: joblib>=0.11 in /usr/local/lib/python3.7/dist-packages (from scikit-learn->lightgbm) (1.0.1)\n"
          ]
        }
      ]
    },
    {
      "cell_type": "code",
      "metadata": {
        "id": "CewBtyda_Pf3"
      },
      "source": [
        "import pandas as pd\n",
        "from pprint import pprint\n",
        "import numpy as np"
      ],
      "execution_count": 249,
      "outputs": []
    },
    {
      "cell_type": "code",
      "metadata": {
        "colab": {
          "base_uri": "https://localhost:8080/"
        },
        "id": "QyHi23AC_Zn5",
        "outputId": "5aa77892-4114-4cf0-a5aa-195f8c771271"
      },
      "source": [
        "from google.colab import drive \n",
        "drive.mount('gdrive')"
      ],
      "execution_count": 22,
      "outputs": [
        {
          "output_type": "stream",
          "name": "stdout",
          "text": [
            "Drive already mounted at gdrive; to attempt to forcibly remount, call drive.mount(\"gdrive\", force_remount=True).\n"
          ]
        }
      ]
    },
    {
      "cell_type": "code",
      "metadata": {
        "id": "8YLiXnQ8_l56"
      },
      "source": [
        "processed_DJI_df = pd.read_csv('/content/gdrive/MyDrive/Processed_DJI.csv')\n",
        "processed_DJI_df.head(10)"
      ],
      "execution_count": null,
      "outputs": []
    },
    {
      "cell_type": "code",
      "metadata": {
        "id": "8iGVzf9LIK2h"
      },
      "source": [
        "companiesList = ['Mobile_corporation', 'JPChase', 'Apple', 'Microsoft', 'GE', 'JohnsonJohnson', 'Wells Fargo', 'Amazon']"
      ],
      "execution_count": 199,
      "outputs": []
    },
    {
      "cell_type": "markdown",
      "metadata": {
        "id": "XIjyiL2yCvPf"
      },
      "source": [
        "# **Convert DataFrame to List of values**"
      ]
    },
    {
      "cell_type": "code",
      "metadata": {
        "id": "p9i261r6CzVG"
      },
      "source": [
        "values_list =  processed_DJI_df.values.tolist()\n",
        "column_list = processed_DJI_df.columns"
      ],
      "execution_count": 200,
      "outputs": []
    },
    {
      "cell_type": "code",
      "metadata": {
        "id": "grB2wvLsL6Jz"
      },
      "source": [
        "companiesList = ['Mobile_corporation', 'JPChase', 'Apple', 'Microsoft', 'GE', 'JohnsonJohnson', 'Wells Fargo', 'Amazon']\n",
        "company_dict_list = []\n",
        "for value_list in values_list:\n",
        "  company_dict = {}\n",
        "  for company_name in companiesList:\n",
        "    sample_list = value_list.copy()\n",
        "    sample_list.append(company_name)\n",
        "    company_dict[company_name] = sample_list\n",
        "  df = pd.DataFrame(company_dict)\n",
        "  df = df.T\n",
        "  company_dict_list.append(df)"
      ],
      "execution_count": 201,
      "outputs": []
    },
    {
      "cell_type": "code",
      "metadata": {
        "id": "yQiMLAnnTVCp"
      },
      "source": [
        "final_df = pd.concat(company_dict_list)\n",
        "final_df.head(10)"
      ],
      "execution_count": null,
      "outputs": []
    },
    {
      "cell_type": "code",
      "metadata": {
        "id": "4bHiC4N7Rl5i"
      },
      "source": [
        "column_list = column_list.tolist()"
      ],
      "execution_count": 203,
      "outputs": []
    },
    {
      "cell_type": "code",
      "metadata": {
        "id": "jk_3BLzEgrhQ"
      },
      "source": [
        "column_list.append('Company_Name')"
      ],
      "execution_count": 204,
      "outputs": []
    },
    {
      "cell_type": "code",
      "metadata": {
        "id": "AMNCYZFQf1YD"
      },
      "source": [
        "final_df.columns = column_list\n",
        "final_df.head(20)"
      ],
      "execution_count": null,
      "outputs": []
    },
    {
      "cell_type": "code",
      "metadata": {
        "id": "YrRDrrkBgzIt"
      },
      "source": [
        "final_df.set_index('Company_Name')\n",
        "final_df.head(20)"
      ],
      "execution_count": null,
      "outputs": []
    },
    {
      "cell_type": "code",
      "metadata": {
        "id": "A3Ic7xaihbqH"
      },
      "source": [
        "companiesList = ['Mobile_corporation', 'JPChase', 'Apple', 'Microsoft', 'GE', 'JohnsonJohnson', 'Wells Fargo', 'Amazon']\n",
        "column_companies_list = ['XOM', 'JPM', 'AAPL', 'MSFT', 'GE', 'JNJ', 'WFC','AMZN']\n",
        "\n",
        "for index, row in final_df.iterrows():\n",
        "  if row['Company_Name'] == 'Mobile_corporation':\n",
        "    row['JPM','AAPL','MSFT','GE', 'JNJ', 'WFC','AMZN'] = 0\n",
        "  elif row['Company_Name'] == 'JPChase':\n",
        "    row['XOM','AAPL','MSFT','GE', 'JNJ', 'WFC','AMZN'] = 0\n",
        "  elif row['Company_Name'] == 'Apple':\n",
        "    row['XOM','JPM','MSFT','GE', 'JNJ', 'WFC','AMZN'] = 0\n",
        "  elif row['Company_Name'] == 'Microsoft':\n",
        "    row['XOM','AAPL','JPM','GE', 'JNJ', 'WFC','AMZN'] = 0\n",
        "  elif row['Company_Name'] == 'GE':\n",
        "    row['XOM','AAPL','MSFT','JPM', 'JNJ', 'WFC','AMZN'] = 0\n",
        "  elif row['Company_Name'] == 'JohnsonJohnson':\n",
        "    row['XOM','AAPL','MSFT','GE', 'JPM', 'WFC','AMZN'] = 0\n",
        "  elif row['Company_Name'] == 'Wells Fargo':\n",
        "    row['XOM','AAPL','MSFT','GE', 'JNJ', 'JPM','AMZN'] = 0\n",
        "  elif row['Company_Name'] == 'Amazon':\n",
        "    row['XOM','AAPL','MSFT','GE', 'JNJ', 'WFC','JPM'] = 0"
      ],
      "execution_count": 207,
      "outputs": []
    },
    {
      "cell_type": "code",
      "metadata": {
        "id": "c54onZYvjIaO"
      },
      "source": [
        "final_df.head(10)"
      ],
      "execution_count": null,
      "outputs": []
    },
    {
      "cell_type": "code",
      "metadata": {
        "id": "Kq8R94wBTy0O"
      },
      "source": [
        "final_df.to_csv('/content/sample_data/StockMarket_Data_1.csv')"
      ],
      "execution_count": 209,
      "outputs": []
    },
    {
      "cell_type": "code",
      "metadata": {
        "id": "RsxdG2hvdFt6"
      },
      "source": [
        "a = final_df.groupby('Company_name')"
      ],
      "execution_count": 132,
      "outputs": []
    },
    {
      "cell_type": "code",
      "metadata": {
        "id": "9iVy_XoEdK-S"
      },
      "source": [
        "a.head()"
      ],
      "execution_count": null,
      "outputs": []
    },
    {
      "cell_type": "code",
      "metadata": {
        "id": "CSkyQzwdVm1L"
      },
      "source": [
        "final_df = final_df[:50]"
      ],
      "execution_count": 106,
      "outputs": []
    },
    {
      "cell_type": "code",
      "metadata": {
        "colab": {
          "base_uri": "https://localhost:8080/"
        },
        "id": "zRqqHXxHVr23",
        "outputId": "b04dce74-7839-4790-e729-fa47aa8b0f7e"
      },
      "source": [
        "len(final_df.columns)"
      ],
      "execution_count": 107,
      "outputs": [
        {
          "output_type": "execute_result",
          "data": {
            "text/plain": [
              "84"
            ]
          },
          "metadata": {},
          "execution_count": 107
        }
      ]
    },
    {
      "cell_type": "code",
      "metadata": {
        "id": "1kh2E7h3YrxU"
      },
      "source": [
        "final_df.head()"
      ],
      "execution_count": null,
      "outputs": []
    },
    {
      "cell_type": "markdown",
      "metadata": {
        "id": "Qkj-RyLjo6_Y"
      },
      "source": [
        "# **Preprocessing**"
      ]
    },
    {
      "cell_type": "code",
      "metadata": {
        "id": "mVPc6tK5o9hk"
      },
      "source": [
        "stockmarket_Df = pd.read_csv('/content/sample_data/StockMarket_Data_1.csv', index_col='Unnamed: 0')\n",
        "stockmarket_Df.fillna(0, inplace=True)\n",
        "stockmarket_Df.head()"
      ],
      "execution_count": null,
      "outputs": []
    },
    {
      "cell_type": "markdown",
      "metadata": {
        "id": "ZgZH-1Dn011X"
      },
      "source": [
        "# **Labeling the data**"
      ]
    },
    {
      "cell_type": "code",
      "metadata": {
        "id": "B5_tAQB5rw0B"
      },
      "source": [
        "stockmarket_Df.head()\n",
        "\n",
        "companiesList = ['Mobile_corporation', 'JPChase', 'Apple', 'Microsoft', 'GE', 'JohnsonJohnson', 'Wells Fargo', 'Amazon']\n",
        "column_companies_list = ['XOM', 'JPM', 'AAPL', 'MSFT', 'GE', 'JNJ', 'WFC','AMZN']\n"
      ],
      "execution_count": null,
      "outputs": []
    },
    {
      "cell_type": "code",
      "metadata": {
        "id": "ZedW0GT92pnK"
      },
      "source": [
        "Mobile_corporation_df = stockmarket_Df[stockmarket_Df[\"Company_Name\"] == 'Mobile_corporation']\n",
        "Mobile_corporation_df[\"XOM\"] = pd.to_numeric(Mobile_corporation_df[\"XOM\"])\n",
        "\n",
        "JPChase_df = stockmarket_Df[stockmarket_Df[\"Company_Name\"] == 'JPChase']\n",
        "JPChase_df[\"JPM\"] = pd.to_numeric(JPChase_df[\"JPM\"])\n",
        "\n",
        "Microsoft_df = stockmarket_Df[stockmarket_Df[\"Company_Name\"] == 'Microsoft']\n",
        "Microsoft_df[\"MSFT\"] = pd.to_numeric(Microsoft_df[\"MSFT\"])\n",
        "\n",
        "Apple_df = stockmarket_Df[stockmarket_Df[\"Company_Name\"] == 'Apple']\n",
        "Apple_df[\"AAPL\"] = pd.to_numeric(Apple_df[\"AAPL\"])\n",
        "\n",
        "GE_df = stockmarket_Df[stockmarket_Df[\"Company_Name\"] == 'GE']\n",
        "GE_df[\"GE\"] = pd.to_numeric(GE_df[\"GE\"])\n",
        "\n",
        "JohnsonJohnson_df = stockmarket_Df[stockmarket_Df[\"Company_Name\"] == 'JohnsonJohnson']\n",
        "JohnsonJohnson_df[\"JNJ\"] = pd.to_numeric(JohnsonJohnson_df[\"JNJ\"])\n",
        "\n",
        "Wells_Fargo_df = stockmarket_Df[stockmarket_Df[\"Company_Name\"] == 'Wells Fargo']\n",
        "Wells_Fargo_df[\"WFC\"] = pd.to_numeric(Wells_Fargo_df[\"WFC\"])\n",
        "\n",
        "Amazon_df = stockmarket_Df[stockmarket_Df[\"Company_Name\"] == 'Amazon']\n",
        "Amazon_df[\"AMZN\"] = pd.to_numeric(Amazon_df[\"AMZN\"])\n"
      ],
      "execution_count": null,
      "outputs": []
    },
    {
      "cell_type": "code",
      "metadata": {
        "id": "XllZfIN_35bN"
      },
      "source": [
        "def setLabeling(data_list):\n",
        "  label_list = []\n",
        "  intial_value = data_list[0]\n",
        "  for i in data_list[1:len(data_list)]:\n",
        "    if intial_value > i:\n",
        "      label_list.append(-1)\n",
        "    elif intial_value < i:\n",
        "      label_list.append(1)\n",
        "    elif intial_value == i:\n",
        "      label_list.append(0)\n",
        "    intial_value = i\n",
        "  return label_list"
      ],
      "execution_count": 301,
      "outputs": []
    },
    {
      "cell_type": "code",
      "metadata": {
        "id": "NhFaY4AM4FTH"
      },
      "source": [
        "column_companies_list = ['XOM', 'JPM', 'AAPL', 'MSFT', 'GE', 'JNJ', 'WFC','AMZN']\n",
        "\n",
        "Mobile_corporation_list = Mobile_corporation_df['XOM'].values.tolist()\n",
        "xom_labels = setLabeling(Mobile_corporation_list)\n",
        "xom_labels.append('NAN')\n",
        "\n",
        "jpm_list = JPChase_df['JPM'].values.tolist()\n",
        "jpm_labels = setLabeling(jpm_list)\n",
        "jpm_labels.append('NAN')\n",
        "\n",
        "apple_list = Apple_df['AAPL'].values.tolist()\n",
        "apple_labels = setLabeling(apple_list)\n",
        "apple_labels.append('NAN')\n",
        "\n",
        "microsoft_list = Microsoft_df['MSFT'].values.tolist()\n",
        "microsoft_labels = setLabeling(microsoft_list)\n",
        "microsoft_labels.append('NAN')\n",
        "\n",
        "ge_list = GE_df['GE'].values.tolist()\n",
        "ge_labels = setLabeling(ge_list)\n",
        "ge_labels.append('NAN')\n",
        "\n",
        "john_john_list = JohnsonJohnson_df['JNJ'].values.tolist()\n",
        "johnjohn_labels = setLabeling(john_john_list)\n",
        "johnjohn_labels.append('NAN')\n",
        "\n",
        "wellsfrago_list = Wells_Fargo_df['WFC'].values.tolist()\n",
        "wellsfrago_labels = setLabeling(wellsfrago_list)\n",
        "wellsfrago_labels.append('NAN')\n",
        "\n",
        "\n",
        "amazon_list = Amazon_df['AMZN'].values.tolist()\n",
        "amazon_labels = setLabeling(amazon_list)\n",
        "amazon_labels.append('NAN')"
      ],
      "execution_count": 306,
      "outputs": []
    },
    {
      "cell_type": "code",
      "metadata": {
        "id": "9IgRmXrK4OzJ"
      },
      "source": [
        "Mobile_corporation_df['Match'] = xom_labels\n",
        "JPChase_df['Match'] = jpm_labels\n",
        "Apple_df['Match'] = apple_labels\n",
        "Microsoft_df['Match'] = microsoft_labels\n",
        "GE_df['Match'] = ge_labels\n",
        "JohnsonJohnson_df['Match'] = johnjohn_labels\n",
        "Wells_Fargo_df['Match'] = wellsfrago_labels\n",
        "Amazon_df['Match'] = amazon_labels"
      ],
      "execution_count": null,
      "outputs": []
    },
    {
      "cell_type": "code",
      "metadata": {
        "id": "3ht48DkSDuaW"
      },
      "source": [
        "final_df = pd.concat([Mobile_corporation_df, JPChase_df, Apple_df, Microsoft_df, GE_df, JohnsonJohnson_df, Wells_Fargo_df, Amazon_df])\n",
        "final_df.head(10)"
      ],
      "execution_count": null,
      "outputs": []
    },
    {
      "cell_type": "code",
      "metadata": {
        "id": "PCkQSYY5D_O1"
      },
      "source": [
        "final_df.head(10)"
      ],
      "execution_count": null,
      "outputs": []
    },
    {
      "cell_type": "code",
      "metadata": {
        "colab": {
          "base_uri": "https://localhost:8080/",
          "height": 367
        },
        "id": "gLs0FyK2ERSc",
        "outputId": "10ff7a5d-7f73-42a7-9be3-b26e305c2cd0"
      },
      "source": [
        "final_df[\"Date\"] = pd.to_datetime(final_df[\"Date\"])\n",
        "final_df = final_df.sort_values(by=\"Date\")\n",
        "final_df.head()"
      ],
      "execution_count": 315,
      "outputs": [
        {
          "output_type": "execute_result",
          "data": {
            "text/html": [
              "<div>\n",
              "<style scoped>\n",
              "    .dataframe tbody tr th:only-of-type {\n",
              "        vertical-align: middle;\n",
              "    }\n",
              "\n",
              "    .dataframe tbody tr th {\n",
              "        vertical-align: top;\n",
              "    }\n",
              "\n",
              "    .dataframe thead th {\n",
              "        text-align: right;\n",
              "    }\n",
              "</style>\n",
              "<table border=\"1\" class=\"dataframe\">\n",
              "  <thead>\n",
              "    <tr style=\"text-align: right;\">\n",
              "      <th></th>\n",
              "      <th>Date</th>\n",
              "      <th>Close</th>\n",
              "      <th>Volume</th>\n",
              "      <th>mom</th>\n",
              "      <th>mom1</th>\n",
              "      <th>mom2</th>\n",
              "      <th>mom3</th>\n",
              "      <th>ROC_5</th>\n",
              "      <th>ROC_10</th>\n",
              "      <th>ROC_15</th>\n",
              "      <th>ROC_20</th>\n",
              "      <th>EMA_10</th>\n",
              "      <th>EMA_20</th>\n",
              "      <th>EMA_50</th>\n",
              "      <th>EMA_200</th>\n",
              "      <th>DTB4WK</th>\n",
              "      <th>DTB3</th>\n",
              "      <th>DTB6</th>\n",
              "      <th>DGS5</th>\n",
              "      <th>DGS10</th>\n",
              "      <th>Oil</th>\n",
              "      <th>Gold</th>\n",
              "      <th>DAAA</th>\n",
              "      <th>DBAA</th>\n",
              "      <th>GBP</th>\n",
              "      <th>JPY</th>\n",
              "      <th>CAD</th>\n",
              "      <th>CNY</th>\n",
              "      <th>AAPL</th>\n",
              "      <th>AMZN</th>\n",
              "      <th>GE</th>\n",
              "      <th>JNJ</th>\n",
              "      <th>JPM</th>\n",
              "      <th>MSFT</th>\n",
              "      <th>WFC</th>\n",
              "      <th>XOM</th>\n",
              "      <th>FCHI</th>\n",
              "      <th>FTSE</th>\n",
              "      <th>GDAXI</th>\n",
              "      <th>GSPC</th>\n",
              "      <th>...</th>\n",
              "      <th>TE2</th>\n",
              "      <th>TE3</th>\n",
              "      <th>TE5</th>\n",
              "      <th>TE6</th>\n",
              "      <th>DE1</th>\n",
              "      <th>DE2</th>\n",
              "      <th>DE4</th>\n",
              "      <th>DE5</th>\n",
              "      <th>DE6</th>\n",
              "      <th>CTB3M</th>\n",
              "      <th>CTB6M</th>\n",
              "      <th>CTB1Y</th>\n",
              "      <th>Name</th>\n",
              "      <th>AUD</th>\n",
              "      <th>Brent</th>\n",
              "      <th>CAC-F</th>\n",
              "      <th>copper-F</th>\n",
              "      <th>WIT-oil</th>\n",
              "      <th>DAX-F</th>\n",
              "      <th>DJI-F</th>\n",
              "      <th>EUR</th>\n",
              "      <th>FTSE-F</th>\n",
              "      <th>gold-F</th>\n",
              "      <th>HSI-F</th>\n",
              "      <th>KOSPI-F</th>\n",
              "      <th>NASDAQ-F</th>\n",
              "      <th>GAS-F</th>\n",
              "      <th>Nikkei-F</th>\n",
              "      <th>NZD</th>\n",
              "      <th>silver-F</th>\n",
              "      <th>RUSSELL-F</th>\n",
              "      <th>S&amp;P-F</th>\n",
              "      <th>CHF</th>\n",
              "      <th>Dollar index-F</th>\n",
              "      <th>Dollar index</th>\n",
              "      <th>wheat-F</th>\n",
              "      <th>XAG</th>\n",
              "      <th>XAU</th>\n",
              "      <th>Company_Name</th>\n",
              "      <th>Match</th>\n",
              "    </tr>\n",
              "  </thead>\n",
              "  <tbody>\n",
              "    <tr>\n",
              "      <th>Mobile_corporation</th>\n",
              "      <td>2009-12-31</td>\n",
              "      <td>10428.049805</td>\n",
              "      <td>0.0</td>\n",
              "      <td>0.0</td>\n",
              "      <td>0.0</td>\n",
              "      <td>0.0</td>\n",
              "      <td>0.0</td>\n",
              "      <td>0.0</td>\n",
              "      <td>0.0</td>\n",
              "      <td>0.0</td>\n",
              "      <td>0.0</td>\n",
              "      <td>0.0</td>\n",
              "      <td>0.0</td>\n",
              "      <td>0.0</td>\n",
              "      <td>0.0</td>\n",
              "      <td>0.04</td>\n",
              "      <td>0.06</td>\n",
              "      <td>0.2</td>\n",
              "      <td>2.69</td>\n",
              "      <td>3.85</td>\n",
              "      <td>0.0</td>\n",
              "      <td>0.0</td>\n",
              "      <td>5.33</td>\n",
              "      <td>6.39</td>\n",
              "      <td>0.0</td>\n",
              "      <td>0.0</td>\n",
              "      <td>0.0</td>\n",
              "      <td>0.0</td>\n",
              "      <td>0.0</td>\n",
              "      <td>0.0</td>\n",
              "      <td>0.0</td>\n",
              "      <td>0.0</td>\n",
              "      <td>0.0</td>\n",
              "      <td>0.0</td>\n",
              "      <td>0.0</td>\n",
              "      <td>0.0</td>\n",
              "      <td>0.0</td>\n",
              "      <td>0.0</td>\n",
              "      <td>0.0</td>\n",
              "      <td>0.0</td>\n",
              "      <td>...</td>\n",
              "      <td>3.79</td>\n",
              "      <td>3.65</td>\n",
              "      <td>0.02</td>\n",
              "      <td>0.16</td>\n",
              "      <td>1.06</td>\n",
              "      <td>2.54</td>\n",
              "      <td>6.19</td>\n",
              "      <td>6.33</td>\n",
              "      <td>6.35</td>\n",
              "      <td>0.0</td>\n",
              "      <td>0.0</td>\n",
              "      <td>0.0</td>\n",
              "      <td>DJI</td>\n",
              "      <td>0.35</td>\n",
              "      <td>-0.13</td>\n",
              "      <td>0.15</td>\n",
              "      <td>0.09</td>\n",
              "      <td>0.1</td>\n",
              "      <td>0.48</td>\n",
              "      <td>-1.19</td>\n",
              "      <td>-0.12</td>\n",
              "      <td>0.27</td>\n",
              "      <td>0.34</td>\n",
              "      <td>1.68</td>\n",
              "      <td>-0.07</td>\n",
              "      <td>-0.96</td>\n",
              "      <td>-2.4</td>\n",
              "      <td>0.67</td>\n",
              "      <td>0.03</td>\n",
              "      <td>0.26</td>\n",
              "      <td>-1.08</td>\n",
              "      <td>-1.0</td>\n",
              "      <td>-0.11</td>\n",
              "      <td>-0.08</td>\n",
              "      <td>-0.06</td>\n",
              "      <td>-0.48</td>\n",
              "      <td>0.3</td>\n",
              "      <td>0.39</td>\n",
              "      <td>Mobile_corporation</td>\n",
              "      <td>1</td>\n",
              "    </tr>\n",
              "    <tr>\n",
              "      <th>GE</th>\n",
              "      <td>2009-12-31</td>\n",
              "      <td>10428.049805</td>\n",
              "      <td>0.0</td>\n",
              "      <td>0.0</td>\n",
              "      <td>0.0</td>\n",
              "      <td>0.0</td>\n",
              "      <td>0.0</td>\n",
              "      <td>0.0</td>\n",
              "      <td>0.0</td>\n",
              "      <td>0.0</td>\n",
              "      <td>0.0</td>\n",
              "      <td>0.0</td>\n",
              "      <td>0.0</td>\n",
              "      <td>0.0</td>\n",
              "      <td>0.0</td>\n",
              "      <td>0.04</td>\n",
              "      <td>0.06</td>\n",
              "      <td>0.2</td>\n",
              "      <td>2.69</td>\n",
              "      <td>3.85</td>\n",
              "      <td>0.0</td>\n",
              "      <td>0.0</td>\n",
              "      <td>5.33</td>\n",
              "      <td>6.39</td>\n",
              "      <td>0.0</td>\n",
              "      <td>0.0</td>\n",
              "      <td>0.0</td>\n",
              "      <td>0.0</td>\n",
              "      <td>0.0</td>\n",
              "      <td>0.0</td>\n",
              "      <td>0.0</td>\n",
              "      <td>0.0</td>\n",
              "      <td>0.0</td>\n",
              "      <td>0.0</td>\n",
              "      <td>0.0</td>\n",
              "      <td>0.0</td>\n",
              "      <td>0.0</td>\n",
              "      <td>0.0</td>\n",
              "      <td>0.0</td>\n",
              "      <td>0.0</td>\n",
              "      <td>...</td>\n",
              "      <td>3.79</td>\n",
              "      <td>3.65</td>\n",
              "      <td>0.02</td>\n",
              "      <td>0.16</td>\n",
              "      <td>1.06</td>\n",
              "      <td>2.54</td>\n",
              "      <td>6.19</td>\n",
              "      <td>6.33</td>\n",
              "      <td>6.35</td>\n",
              "      <td>0.0</td>\n",
              "      <td>0.0</td>\n",
              "      <td>0.0</td>\n",
              "      <td>DJI</td>\n",
              "      <td>0.35</td>\n",
              "      <td>-0.13</td>\n",
              "      <td>0.15</td>\n",
              "      <td>0.09</td>\n",
              "      <td>0.1</td>\n",
              "      <td>0.48</td>\n",
              "      <td>-1.19</td>\n",
              "      <td>-0.12</td>\n",
              "      <td>0.27</td>\n",
              "      <td>0.34</td>\n",
              "      <td>1.68</td>\n",
              "      <td>-0.07</td>\n",
              "      <td>-0.96</td>\n",
              "      <td>-2.4</td>\n",
              "      <td>0.67</td>\n",
              "      <td>0.03</td>\n",
              "      <td>0.26</td>\n",
              "      <td>-1.08</td>\n",
              "      <td>-1.0</td>\n",
              "      <td>-0.11</td>\n",
              "      <td>-0.08</td>\n",
              "      <td>-0.06</td>\n",
              "      <td>-0.48</td>\n",
              "      <td>0.3</td>\n",
              "      <td>0.39</td>\n",
              "      <td>GE</td>\n",
              "      <td>1</td>\n",
              "    </tr>\n",
              "    <tr>\n",
              "      <th>JPChase</th>\n",
              "      <td>2009-12-31</td>\n",
              "      <td>10428.049805</td>\n",
              "      <td>0.0</td>\n",
              "      <td>0.0</td>\n",
              "      <td>0.0</td>\n",
              "      <td>0.0</td>\n",
              "      <td>0.0</td>\n",
              "      <td>0.0</td>\n",
              "      <td>0.0</td>\n",
              "      <td>0.0</td>\n",
              "      <td>0.0</td>\n",
              "      <td>0.0</td>\n",
              "      <td>0.0</td>\n",
              "      <td>0.0</td>\n",
              "      <td>0.0</td>\n",
              "      <td>0.04</td>\n",
              "      <td>0.06</td>\n",
              "      <td>0.2</td>\n",
              "      <td>2.69</td>\n",
              "      <td>3.85</td>\n",
              "      <td>0.0</td>\n",
              "      <td>0.0</td>\n",
              "      <td>5.33</td>\n",
              "      <td>6.39</td>\n",
              "      <td>0.0</td>\n",
              "      <td>0.0</td>\n",
              "      <td>0.0</td>\n",
              "      <td>0.0</td>\n",
              "      <td>0.0</td>\n",
              "      <td>0.0</td>\n",
              "      <td>0.0</td>\n",
              "      <td>0.0</td>\n",
              "      <td>0.0</td>\n",
              "      <td>0.0</td>\n",
              "      <td>0.0</td>\n",
              "      <td>0.0</td>\n",
              "      <td>0.0</td>\n",
              "      <td>0.0</td>\n",
              "      <td>0.0</td>\n",
              "      <td>0.0</td>\n",
              "      <td>...</td>\n",
              "      <td>3.79</td>\n",
              "      <td>3.65</td>\n",
              "      <td>0.02</td>\n",
              "      <td>0.16</td>\n",
              "      <td>1.06</td>\n",
              "      <td>2.54</td>\n",
              "      <td>6.19</td>\n",
              "      <td>6.33</td>\n",
              "      <td>6.35</td>\n",
              "      <td>0.0</td>\n",
              "      <td>0.0</td>\n",
              "      <td>0.0</td>\n",
              "      <td>DJI</td>\n",
              "      <td>0.35</td>\n",
              "      <td>-0.13</td>\n",
              "      <td>0.15</td>\n",
              "      <td>0.09</td>\n",
              "      <td>0.1</td>\n",
              "      <td>0.48</td>\n",
              "      <td>-1.19</td>\n",
              "      <td>-0.12</td>\n",
              "      <td>0.27</td>\n",
              "      <td>0.34</td>\n",
              "      <td>1.68</td>\n",
              "      <td>-0.07</td>\n",
              "      <td>-0.96</td>\n",
              "      <td>-2.4</td>\n",
              "      <td>0.67</td>\n",
              "      <td>0.03</td>\n",
              "      <td>0.26</td>\n",
              "      <td>-1.08</td>\n",
              "      <td>-1.0</td>\n",
              "      <td>-0.11</td>\n",
              "      <td>-0.08</td>\n",
              "      <td>-0.06</td>\n",
              "      <td>-0.48</td>\n",
              "      <td>0.3</td>\n",
              "      <td>0.39</td>\n",
              "      <td>JPChase</td>\n",
              "      <td>1</td>\n",
              "    </tr>\n",
              "    <tr>\n",
              "      <th>Apple</th>\n",
              "      <td>2009-12-31</td>\n",
              "      <td>10428.049805</td>\n",
              "      <td>0.0</td>\n",
              "      <td>0.0</td>\n",
              "      <td>0.0</td>\n",
              "      <td>0.0</td>\n",
              "      <td>0.0</td>\n",
              "      <td>0.0</td>\n",
              "      <td>0.0</td>\n",
              "      <td>0.0</td>\n",
              "      <td>0.0</td>\n",
              "      <td>0.0</td>\n",
              "      <td>0.0</td>\n",
              "      <td>0.0</td>\n",
              "      <td>0.0</td>\n",
              "      <td>0.04</td>\n",
              "      <td>0.06</td>\n",
              "      <td>0.2</td>\n",
              "      <td>2.69</td>\n",
              "      <td>3.85</td>\n",
              "      <td>0.0</td>\n",
              "      <td>0.0</td>\n",
              "      <td>5.33</td>\n",
              "      <td>6.39</td>\n",
              "      <td>0.0</td>\n",
              "      <td>0.0</td>\n",
              "      <td>0.0</td>\n",
              "      <td>0.0</td>\n",
              "      <td>0.0</td>\n",
              "      <td>0.0</td>\n",
              "      <td>0.0</td>\n",
              "      <td>0.0</td>\n",
              "      <td>0.0</td>\n",
              "      <td>0.0</td>\n",
              "      <td>0.0</td>\n",
              "      <td>0.0</td>\n",
              "      <td>0.0</td>\n",
              "      <td>0.0</td>\n",
              "      <td>0.0</td>\n",
              "      <td>0.0</td>\n",
              "      <td>...</td>\n",
              "      <td>3.79</td>\n",
              "      <td>3.65</td>\n",
              "      <td>0.02</td>\n",
              "      <td>0.16</td>\n",
              "      <td>1.06</td>\n",
              "      <td>2.54</td>\n",
              "      <td>6.19</td>\n",
              "      <td>6.33</td>\n",
              "      <td>6.35</td>\n",
              "      <td>0.0</td>\n",
              "      <td>0.0</td>\n",
              "      <td>0.0</td>\n",
              "      <td>DJI</td>\n",
              "      <td>0.35</td>\n",
              "      <td>-0.13</td>\n",
              "      <td>0.15</td>\n",
              "      <td>0.09</td>\n",
              "      <td>0.1</td>\n",
              "      <td>0.48</td>\n",
              "      <td>-1.19</td>\n",
              "      <td>-0.12</td>\n",
              "      <td>0.27</td>\n",
              "      <td>0.34</td>\n",
              "      <td>1.68</td>\n",
              "      <td>-0.07</td>\n",
              "      <td>-0.96</td>\n",
              "      <td>-2.4</td>\n",
              "      <td>0.67</td>\n",
              "      <td>0.03</td>\n",
              "      <td>0.26</td>\n",
              "      <td>-1.08</td>\n",
              "      <td>-1.0</td>\n",
              "      <td>-0.11</td>\n",
              "      <td>-0.08</td>\n",
              "      <td>-0.06</td>\n",
              "      <td>-0.48</td>\n",
              "      <td>0.3</td>\n",
              "      <td>0.39</td>\n",
              "      <td>Apple</td>\n",
              "      <td>1</td>\n",
              "    </tr>\n",
              "    <tr>\n",
              "      <th>Microsoft</th>\n",
              "      <td>2009-12-31</td>\n",
              "      <td>10428.049805</td>\n",
              "      <td>0.0</td>\n",
              "      <td>0.0</td>\n",
              "      <td>0.0</td>\n",
              "      <td>0.0</td>\n",
              "      <td>0.0</td>\n",
              "      <td>0.0</td>\n",
              "      <td>0.0</td>\n",
              "      <td>0.0</td>\n",
              "      <td>0.0</td>\n",
              "      <td>0.0</td>\n",
              "      <td>0.0</td>\n",
              "      <td>0.0</td>\n",
              "      <td>0.0</td>\n",
              "      <td>0.04</td>\n",
              "      <td>0.06</td>\n",
              "      <td>0.2</td>\n",
              "      <td>2.69</td>\n",
              "      <td>3.85</td>\n",
              "      <td>0.0</td>\n",
              "      <td>0.0</td>\n",
              "      <td>5.33</td>\n",
              "      <td>6.39</td>\n",
              "      <td>0.0</td>\n",
              "      <td>0.0</td>\n",
              "      <td>0.0</td>\n",
              "      <td>0.0</td>\n",
              "      <td>0.0</td>\n",
              "      <td>0.0</td>\n",
              "      <td>0.0</td>\n",
              "      <td>0.0</td>\n",
              "      <td>0.0</td>\n",
              "      <td>0.0</td>\n",
              "      <td>0.0</td>\n",
              "      <td>0.0</td>\n",
              "      <td>0.0</td>\n",
              "      <td>0.0</td>\n",
              "      <td>0.0</td>\n",
              "      <td>0.0</td>\n",
              "      <td>...</td>\n",
              "      <td>3.79</td>\n",
              "      <td>3.65</td>\n",
              "      <td>0.02</td>\n",
              "      <td>0.16</td>\n",
              "      <td>1.06</td>\n",
              "      <td>2.54</td>\n",
              "      <td>6.19</td>\n",
              "      <td>6.33</td>\n",
              "      <td>6.35</td>\n",
              "      <td>0.0</td>\n",
              "      <td>0.0</td>\n",
              "      <td>0.0</td>\n",
              "      <td>DJI</td>\n",
              "      <td>0.35</td>\n",
              "      <td>-0.13</td>\n",
              "      <td>0.15</td>\n",
              "      <td>0.09</td>\n",
              "      <td>0.1</td>\n",
              "      <td>0.48</td>\n",
              "      <td>-1.19</td>\n",
              "      <td>-0.12</td>\n",
              "      <td>0.27</td>\n",
              "      <td>0.34</td>\n",
              "      <td>1.68</td>\n",
              "      <td>-0.07</td>\n",
              "      <td>-0.96</td>\n",
              "      <td>-2.4</td>\n",
              "      <td>0.67</td>\n",
              "      <td>0.03</td>\n",
              "      <td>0.26</td>\n",
              "      <td>-1.08</td>\n",
              "      <td>-1.0</td>\n",
              "      <td>-0.11</td>\n",
              "      <td>-0.08</td>\n",
              "      <td>-0.06</td>\n",
              "      <td>-0.48</td>\n",
              "      <td>0.3</td>\n",
              "      <td>0.39</td>\n",
              "      <td>Microsoft</td>\n",
              "      <td>1</td>\n",
              "    </tr>\n",
              "  </tbody>\n",
              "</table>\n",
              "<p>5 rows × 86 columns</p>\n",
              "</div>"
            ],
            "text/plain": [
              "                         Date         Close  ...        Company_Name  Match\n",
              "Mobile_corporation 2009-12-31  10428.049805  ...  Mobile_corporation      1\n",
              "GE                 2009-12-31  10428.049805  ...                  GE      1\n",
              "JPChase            2009-12-31  10428.049805  ...             JPChase      1\n",
              "Apple              2009-12-31  10428.049805  ...               Apple      1\n",
              "Microsoft          2009-12-31  10428.049805  ...           Microsoft      1\n",
              "\n",
              "[5 rows x 86 columns]"
            ]
          },
          "metadata": {},
          "execution_count": 315
        }
      ]
    },
    {
      "cell_type": "code",
      "metadata": {
        "id": "64eZk0LxEtQ4"
      },
      "source": [
        "final_df.to_csv('/content/sample_data/Stock_market_label_data.csv')"
      ],
      "execution_count": 316,
      "outputs": []
    }
  ]
}