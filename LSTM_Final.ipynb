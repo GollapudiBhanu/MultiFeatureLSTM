{
  "nbformat": 4,
  "nbformat_minor": 0,
  "metadata": {
    "colab": {
      "name": "LSTM-Final.ipynb",
      "provenance": [],
      "collapsed_sections": []
    },
    "kernelspec": {
      "name": "python3",
      "display_name": "Python 3"
    },
    "language_info": {
      "name": "python"
    }
  },
  "cells": [
    {
      "cell_type": "code",
      "metadata": {
        "colab": {
          "base_uri": "https://localhost:8080/"
        },
        "id": "yTT2lUAWmICj",
        "outputId": "41449514-4131-46f5-b4a2-d4e1c1bfc69e"
      },
      "source": [
        "from google.colab import drive \n",
        "drive.mount('gdrive')"
      ],
      "execution_count": null,
      "outputs": [
        {
          "output_type": "stream",
          "name": "stdout",
          "text": [
            "Mounted at gdrive\n"
          ]
        }
      ]
    },
    {
      "cell_type": "code",
      "metadata": {
        "id": "gVUISRn8mkj2"
      },
      "source": [
        "import pandas as pd\n",
        "import numpy as np\n",
        "from sklearn.preprocessing import MinMaxScaler\n",
        "from sklearn.model_selection import train_test_split\n",
        "import tensorflow as tf\n",
        "import tensorflow.keras as keras\n",
        "from tensorflow.keras.preprocessing.sequence import TimeseriesGenerator\n",
        "from tensorflow.keras import layers, models, backend as K, callbacks\n",
        "from keras.layers import LSTM\n",
        "from keras.models import load_model\n",
        "from keras.callbacks import ModelCheckpoint\n",
        "from sklearn import preprocessing\n",
        "from tensorflow.keras.optimizers import SGD\n",
        "from tensorflow.keras.utils import to_categorical\n",
        "from keras import regularizers\n",
        "from keras.layers import TimeDistributed\n",
        "import math\n",
        "from sklearn.metrics import roc_auc_score, roc_curve\n",
        "from sklearn import metrics\n",
        "from sklearn.decomposition import PCA\n",
        "from sklearn.metrics import accuracy_score\n",
        "from matplotlib import pyplot as plt"
      ],
      "execution_count": 177,
      "outputs": []
    },
    {
      "cell_type": "code",
      "metadata": {
        "colab": {
          "base_uri": "https://localhost:8080/"
        },
        "id": "1cC1vUVOmsTN",
        "outputId": "7b497903-cc7e-44cd-b3df-95588609b8c3"
      },
      "source": [
        "stock_market_df = pd.read_csv('/content/gdrive/MyDrive/Stock_market_label_data.csv')\n",
        "stock_market_df = stock_market_df[: 15850]\n",
        "stock_market_df['Match'] = stock_market_df['Match'].astype(int)\n",
        "stock_market_df['Match'] = stock_market_df['Match'].replace([-1], 0)\n",
        "stock_market_df.drop(columns=['Company_Name', 'Unnamed: 0', 'Date', 'Name'], inplace=True)\n",
        "stock_market_df.fillna(0)\n",
        "stock_market_df = stock_market_df[: 15862]"
      ],
      "execution_count": 136,
      "outputs": [
        {
          "output_type": "stream",
          "name": "stderr",
          "text": [
            "/usr/local/lib/python3.7/dist-packages/IPython/core/interactiveshell.py:2718: DtypeWarning: Columns (86) have mixed types.Specify dtype option on import or set low_memory=False.\n",
            "  interactivity=interactivity, compiler=compiler, result=result)\n"
          ]
        }
      ]
    },
    {
      "cell_type": "code",
      "metadata": {
        "id": "WQh5qP8KhBgi"
      },
      "source": [
        "orginalColumn_lsit = stock_market_df.columns"
      ],
      "execution_count": 137,
      "outputs": []
    },
    {
      "cell_type": "code",
      "metadata": {
        "id": "2lW8x8HqhJEk"
      },
      "source": [
        "stock_market_df_1 = stock_market_df.drop(columns=['Match'])\n",
        "X=stock_market_df_1.values.astype(float)\n",
        "y= stock_market_df['Match'].values.astype(float)"
      ],
      "execution_count": 138,
      "outputs": []
    },
    {
      "cell_type": "code",
      "metadata": {
        "id": "hfmTHxfakFjw"
      },
      "source": [
        "scaler = MinMaxScaler(feature_range=(0, 1))\n",
        "dataset = scaler.fit_transform(X)"
      ],
      "execution_count": 139,
      "outputs": []
    },
    {
      "cell_type": "code",
      "metadata": {
        "id": "PaB1PSfT2dOX"
      },
      "source": [
        "new_datframe_X = pd.DataFrame(dataset)\n",
        "new_datframe_y = pd.DataFrame(y)\n",
        "new_datframe = pd.concat([new_datframe_X, new_datframe_y], axis=1)\n",
        "new_datframe.columns = orginalColumn_lsit\n",
        "dataset = np.array(new_datframe.values)"
      ],
      "execution_count": 151,
      "outputs": []
    },
    {
      "cell_type": "code",
      "metadata": {
        "id": "yabZrl63hX_s"
      },
      "source": [
        "def create_dataset(dataset, look_back=1):\n",
        "\tdataX, dataY = [], []\n",
        "\tfor i in range(len(dataset)-look_back-1):\n",
        "\t\ta = dataset[i:(i+look_back), 0]\n",
        "\t\tdataX.append(a)\n",
        "\t\tdataY.append(dataset[i+look_back, -1])\n",
        "\treturn np.array(dataX), np.array(dataY)"
      ],
      "execution_count": 152,
      "outputs": []
    },
    {
      "cell_type": "code",
      "metadata": {
        "colab": {
          "base_uri": "https://localhost:8080/"
        },
        "id": "shkw63z_ifDJ",
        "outputId": "98a966c8-cfd2-432c-c424-3d90d7324745"
      },
      "source": [
        "train_size = int(len(dataset) * 0.80)\n",
        "test_size = len(dataset) - train_size\n",
        "train, test = dataset[0:train_size,:], dataset[train_size:len(dataset),:]\n",
        "print(len(train), len(test))"
      ],
      "execution_count": 153,
      "outputs": [
        {
          "output_type": "stream",
          "name": "stdout",
          "text": [
            "12680 3170\n"
          ]
        }
      ]
    },
    {
      "cell_type": "code",
      "metadata": {
        "id": "BaLjxzoFiiyA"
      },
      "source": [
        "look_back = 30\n",
        "trainX, trainY = create_dataset(train, look_back)\n",
        "testX, testY = create_dataset(test, look_back)"
      ],
      "execution_count": 160,
      "outputs": []
    },
    {
      "cell_type": "code",
      "metadata": {
        "colab": {
          "base_uri": "https://localhost:8080/"
        },
        "id": "t-I-6fOLp242",
        "outputId": "fe8c41eb-a001-472f-8312-5924f69ef657"
      },
      "source": [
        "trainY"
      ],
      "execution_count": 161,
      "outputs": [
        {
          "output_type": "execute_result",
          "data": {
            "text/plain": [
              "array([1., 0., 1., ..., 1., 0., 0.])"
            ]
          },
          "metadata": {},
          "execution_count": 161
        }
      ]
    },
    {
      "cell_type": "code",
      "metadata": {
        "id": "fKLh7R3sinXg"
      },
      "source": [
        "trainX = np.reshape(trainX, (trainX.shape[0], 1, trainX.shape[1]))\n",
        "testX = np.reshape(testX, (testX.shape[0], 1, testX.shape[1]))"
      ],
      "execution_count": 162,
      "outputs": []
    },
    {
      "cell_type": "code",
      "metadata": {
        "colab": {
          "base_uri": "https://localhost:8080/"
        },
        "id": "lhctBVxyip1h",
        "outputId": "af5389d4-776b-485a-85cd-48ee34fb8780"
      },
      "source": [
        "model = tf.keras.Sequential()\n",
        "model.add(LSTM(4, input_shape=(1,30), return_sequences=True))\n",
        "model.add(TimeDistributed(layers.Dense(1, activation='sigmoid')))\n",
        "model.compile(loss='binary_crossentropy', optimizer='adam', metrics = [tf.keras.metrics.AUC()])\n",
        "model.fit(trainX, trainY, epochs=100, batch_size=2, verbose=2)"
      ],
      "execution_count": 163,
      "outputs": [
        {
          "output_type": "stream",
          "name": "stdout",
          "text": [
            "Epoch 1/100\n",
            "6325/6325 - 13s - loss: 0.6933 - auc_7: 0.4973\n",
            "Epoch 2/100\n",
            "6325/6325 - 11s - loss: 0.6930 - auc_7: 0.4991\n",
            "Epoch 3/100\n",
            "6325/6325 - 11s - loss: 0.6929 - auc_7: 0.5032\n",
            "Epoch 4/100\n",
            "6325/6325 - 11s - loss: 0.6928 - auc_7: 0.5077\n",
            "Epoch 5/100\n",
            "6325/6325 - 11s - loss: 0.6924 - auc_7: 0.5209\n",
            "Epoch 6/100\n",
            "6325/6325 - 11s - loss: 0.6919 - auc_7: 0.5289\n",
            "Epoch 7/100\n",
            "6325/6325 - 11s - loss: 0.6909 - auc_7: 0.5426\n",
            "Epoch 8/100\n",
            "6325/6325 - 11s - loss: 0.6898 - auc_7: 0.5505\n",
            "Epoch 9/100\n",
            "6325/6325 - 11s - loss: 0.6877 - auc_7: 0.5616\n",
            "Epoch 10/100\n",
            "6325/6325 - 11s - loss: 0.6846 - auc_7: 0.5756\n",
            "Epoch 11/100\n",
            "6325/6325 - 11s - loss: 0.6826 - auc_7: 0.5815\n",
            "Epoch 12/100\n",
            "6325/6325 - 11s - loss: 0.6810 - auc_7: 0.5865\n",
            "Epoch 13/100\n",
            "6325/6325 - 11s - loss: 0.6802 - auc_7: 0.5895\n",
            "Epoch 14/100\n",
            "6325/6325 - 11s - loss: 0.6779 - auc_7: 0.5965\n",
            "Epoch 15/100\n",
            "6325/6325 - 11s - loss: 0.6762 - auc_7: 0.6004\n",
            "Epoch 16/100\n",
            "6325/6325 - 11s - loss: 0.6748 - auc_7: 0.6040\n",
            "Epoch 17/100\n",
            "6325/6325 - 11s - loss: 0.6734 - auc_7: 0.6070\n",
            "Epoch 18/100\n",
            "6325/6325 - 11s - loss: 0.6725 - auc_7: 0.6094\n",
            "Epoch 19/100\n",
            "6325/6325 - 11s - loss: 0.6721 - auc_7: 0.6129\n",
            "Epoch 20/100\n",
            "6325/6325 - 11s - loss: 0.6698 - auc_7: 0.6173\n",
            "Epoch 21/100\n",
            "6325/6325 - 11s - loss: 0.6704 - auc_7: 0.6150\n",
            "Epoch 22/100\n",
            "6325/6325 - 11s - loss: 0.6684 - auc_7: 0.6191\n",
            "Epoch 23/100\n",
            "6325/6325 - 11s - loss: 0.6663 - auc_7: 0.6247\n",
            "Epoch 24/100\n",
            "6325/6325 - 11s - loss: 0.6632 - auc_7: 0.6320\n",
            "Epoch 25/100\n",
            "6325/6325 - 11s - loss: 0.6660 - auc_7: 0.6235\n",
            "Epoch 26/100\n",
            "6325/6325 - 11s - loss: 0.6631 - auc_7: 0.6343\n",
            "Epoch 27/100\n",
            "6325/6325 - 11s - loss: 0.6633 - auc_7: 0.6316\n",
            "Epoch 28/100\n",
            "6325/6325 - 11s - loss: 0.6606 - auc_7: 0.6376\n",
            "Epoch 29/100\n",
            "6325/6325 - 11s - loss: 0.6624 - auc_7: 0.6314\n",
            "Epoch 30/100\n",
            "6325/6325 - 11s - loss: 0.6609 - auc_7: 0.6362\n",
            "Epoch 31/100\n",
            "6325/6325 - 11s - loss: 0.6613 - auc_7: 0.6335\n",
            "Epoch 32/100\n",
            "6325/6325 - 11s - loss: 0.6595 - auc_7: 0.6387\n",
            "Epoch 33/100\n",
            "6325/6325 - 11s - loss: 0.6602 - auc_7: 0.6357\n",
            "Epoch 34/100\n",
            "6325/6325 - 11s - loss: 0.6576 - auc_7: 0.6436\n",
            "Epoch 35/100\n",
            "6325/6325 - 11s - loss: 0.6584 - auc_7: 0.6389\n",
            "Epoch 36/100\n",
            "6325/6325 - 11s - loss: 0.6560 - auc_7: 0.6484\n",
            "Epoch 37/100\n",
            "6325/6325 - 11s - loss: 0.6568 - auc_7: 0.6444\n",
            "Epoch 38/100\n",
            "6325/6325 - 11s - loss: 0.6568 - auc_7: 0.6441\n",
            "Epoch 39/100\n",
            "6325/6325 - 11s - loss: 0.6562 - auc_7: 0.6447\n",
            "Epoch 40/100\n",
            "6325/6325 - 11s - loss: 0.6577 - auc_7: 0.6427\n",
            "Epoch 41/100\n",
            "6325/6325 - 11s - loss: 0.6566 - auc_7: 0.6441\n",
            "Epoch 42/100\n",
            "6325/6325 - 11s - loss: 0.6572 - auc_7: 0.6432\n",
            "Epoch 43/100\n",
            "6325/6325 - 11s - loss: 0.6554 - auc_7: 0.6470\n",
            "Epoch 44/100\n",
            "6325/6325 - 11s - loss: 0.6558 - auc_7: 0.6453\n",
            "Epoch 45/100\n",
            "6325/6325 - 11s - loss: 0.6541 - auc_7: 0.6473\n",
            "Epoch 46/100\n",
            "6325/6325 - 11s - loss: 0.6548 - auc_7: 0.6463\n",
            "Epoch 47/100\n",
            "6325/6325 - 11s - loss: 0.6541 - auc_7: 0.6481\n",
            "Epoch 48/100\n",
            "6325/6325 - 11s - loss: 0.6531 - auc_7: 0.6501\n",
            "Epoch 49/100\n",
            "6325/6325 - 11s - loss: 0.6535 - auc_7: 0.6495\n",
            "Epoch 50/100\n",
            "6325/6325 - 11s - loss: 0.6525 - auc_7: 0.6529\n",
            "Epoch 51/100\n",
            "6325/6325 - 11s - loss: 0.6529 - auc_7: 0.6516\n",
            "Epoch 52/100\n",
            "6325/6325 - 11s - loss: 0.6517 - auc_7: 0.6525\n",
            "Epoch 53/100\n",
            "6325/6325 - 11s - loss: 0.6530 - auc_7: 0.6497\n",
            "Epoch 54/100\n",
            "6325/6325 - 11s - loss: 0.6525 - auc_7: 0.6511\n",
            "Epoch 55/100\n",
            "6325/6325 - 11s - loss: 0.6519 - auc_7: 0.6537\n",
            "Epoch 56/100\n",
            "6325/6325 - 11s - loss: 0.6516 - auc_7: 0.6541\n",
            "Epoch 57/100\n",
            "6325/6325 - 11s - loss: 0.6526 - auc_7: 0.6510\n",
            "Epoch 58/100\n",
            "6325/6325 - 11s - loss: 0.6517 - auc_7: 0.6548\n",
            "Epoch 59/100\n",
            "6325/6325 - 11s - loss: 0.6527 - auc_7: 0.6500\n",
            "Epoch 60/100\n",
            "6325/6325 - 11s - loss: 0.6514 - auc_7: 0.6519\n",
            "Epoch 61/100\n",
            "6325/6325 - 11s - loss: 0.6500 - auc_7: 0.6568\n",
            "Epoch 62/100\n",
            "6325/6325 - 11s - loss: 0.6520 - auc_7: 0.6531\n",
            "Epoch 63/100\n",
            "6325/6325 - 11s - loss: 0.6518 - auc_7: 0.6525\n",
            "Epoch 64/100\n",
            "6325/6325 - 11s - loss: 0.6517 - auc_7: 0.6529\n",
            "Epoch 65/100\n",
            "6325/6325 - 11s - loss: 0.6491 - auc_7: 0.6572\n",
            "Epoch 66/100\n",
            "6325/6325 - 11s - loss: 0.6491 - auc_7: 0.6583\n",
            "Epoch 67/100\n",
            "6325/6325 - 11s - loss: 0.6501 - auc_7: 0.6565\n",
            "Epoch 68/100\n",
            "6325/6325 - 11s - loss: 0.6511 - auc_7: 0.6533\n",
            "Epoch 69/100\n",
            "6325/6325 - 11s - loss: 0.6487 - auc_7: 0.6581\n",
            "Epoch 70/100\n",
            "6325/6325 - 11s - loss: 0.6499 - auc_7: 0.6561\n",
            "Epoch 71/100\n",
            "6325/6325 - 11s - loss: 0.6490 - auc_7: 0.6580\n",
            "Epoch 72/100\n",
            "6325/6325 - 11s - loss: 0.6507 - auc_7: 0.6554\n",
            "Epoch 73/100\n",
            "6325/6325 - 11s - loss: 0.6494 - auc_7: 0.6564\n",
            "Epoch 74/100\n",
            "6325/6325 - 11s - loss: 0.6486 - auc_7: 0.6587\n",
            "Epoch 75/100\n",
            "6325/6325 - 11s - loss: 0.6488 - auc_7: 0.6587\n",
            "Epoch 76/100\n",
            "6325/6325 - 11s - loss: 0.6479 - auc_7: 0.6602\n",
            "Epoch 77/100\n",
            "6325/6325 - 11s - loss: 0.6484 - auc_7: 0.6586\n",
            "Epoch 78/100\n",
            "6325/6325 - 11s - loss: 0.6475 - auc_7: 0.6615\n",
            "Epoch 79/100\n",
            "6325/6325 - 11s - loss: 0.6494 - auc_7: 0.6563\n",
            "Epoch 80/100\n",
            "6325/6325 - 11s - loss: 0.6485 - auc_7: 0.6583\n",
            "Epoch 81/100\n",
            "6325/6325 - 11s - loss: 0.6469 - auc_7: 0.6625\n",
            "Epoch 82/100\n",
            "6325/6325 - 11s - loss: 0.6464 - auc_7: 0.6633\n",
            "Epoch 83/100\n",
            "6325/6325 - 11s - loss: 0.6472 - auc_7: 0.6621\n",
            "Epoch 84/100\n",
            "6325/6325 - 11s - loss: 0.6471 - auc_7: 0.6617\n",
            "Epoch 85/100\n",
            "6325/6325 - 11s - loss: 0.6464 - auc_7: 0.6627\n",
            "Epoch 86/100\n",
            "6325/6325 - 11s - loss: 0.6462 - auc_7: 0.6633\n",
            "Epoch 87/100\n",
            "6325/6325 - 11s - loss: 0.6476 - auc_7: 0.6607\n",
            "Epoch 88/100\n",
            "6325/6325 - 11s - loss: 0.6480 - auc_7: 0.6595\n",
            "Epoch 89/100\n",
            "6325/6325 - 11s - loss: 0.6473 - auc_7: 0.6614\n",
            "Epoch 90/100\n",
            "6325/6325 - 11s - loss: 0.6459 - auc_7: 0.6622\n",
            "Epoch 91/100\n",
            "6325/6325 - 11s - loss: 0.6456 - auc_7: 0.6660\n",
            "Epoch 92/100\n",
            "6325/6325 - 11s - loss: 0.6452 - auc_7: 0.6643\n",
            "Epoch 93/100\n",
            "6325/6325 - 11s - loss: 0.6450 - auc_7: 0.6661\n",
            "Epoch 94/100\n",
            "6325/6325 - 11s - loss: 0.6453 - auc_7: 0.6663\n",
            "Epoch 95/100\n",
            "6325/6325 - 11s - loss: 0.6466 - auc_7: 0.6615\n",
            "Epoch 96/100\n",
            "6325/6325 - 11s - loss: 0.6451 - auc_7: 0.6658\n",
            "Epoch 97/100\n",
            "6325/6325 - 11s - loss: 0.6462 - auc_7: 0.6641\n",
            "Epoch 98/100\n",
            "6325/6325 - 11s - loss: 0.6450 - auc_7: 0.6647\n",
            "Epoch 99/100\n",
            "6325/6325 - 11s - loss: 0.6448 - auc_7: 0.6658\n",
            "Epoch 100/100\n",
            "6325/6325 - 11s - loss: 0.6444 - auc_7: 0.6667\n"
          ]
        },
        {
          "output_type": "execute_result",
          "data": {
            "text/plain": [
              "<keras.callbacks.History at 0x7f502b247690>"
            ]
          },
          "metadata": {},
          "execution_count": 163
        }
      ]
    },
    {
      "cell_type": "code",
      "metadata": {
        "id": "j_AJ2xjopJzp"
      },
      "source": [
        "result = model.predict(testX, verbose=0)"
      ],
      "execution_count": 164,
      "outputs": []
    },
    {
      "cell_type": "code",
      "metadata": {
        "colab": {
          "base_uri": "https://localhost:8080/"
        },
        "id": "geMcqis9pWLX",
        "outputId": "89afe122-3669-4988-a342-f7744cdbdf14"
      },
      "source": [
        "result"
      ],
      "execution_count": 165,
      "outputs": [
        {
          "output_type": "execute_result",
          "data": {
            "text/plain": [
              "array([[[0.44391215]],\n",
              "\n",
              "       [[0.44116515]],\n",
              "\n",
              "       [[0.43712232]],\n",
              "\n",
              "       ...,\n",
              "\n",
              "       [[0.4680324 ]],\n",
              "\n",
              "       [[0.46736413]],\n",
              "\n",
              "       [[0.46631458]]], dtype=float32)"
            ]
          },
          "metadata": {},
          "execution_count": 165
        }
      ]
    },
    {
      "cell_type": "code",
      "metadata": {
        "colab": {
          "base_uri": "https://localhost:8080/"
        },
        "id": "QpNvmQgspyUX",
        "outputId": "11f2b98a-2ab9-4504-dff1-79c1171d4e54"
      },
      "source": [
        "result"
      ],
      "execution_count": 189,
      "outputs": [
        {
          "output_type": "execute_result",
          "data": {
            "text/plain": [
              "array([[[0.44391215]],\n",
              "\n",
              "       [[0.44116515]],\n",
              "\n",
              "       [[0.43712232]],\n",
              "\n",
              "       ...,\n",
              "\n",
              "       [[0.4680324 ]],\n",
              "\n",
              "       [[0.46736413]],\n",
              "\n",
              "       [[0.46631458]]], dtype=float32)"
            ]
          },
          "metadata": {},
          "execution_count": 189
        }
      ]
    },
    {
      "cell_type": "code",
      "metadata": {
        "colab": {
          "base_uri": "https://localhost:8080/"
        },
        "id": "L9GS9HkV90BU",
        "outputId": "f7547d30-d100-4e62-f2f2-f6fcf1e38a67"
      },
      "source": [
        "result[:, -1]"
      ],
      "execution_count": 188,
      "outputs": [
        {
          "output_type": "execute_result",
          "data": {
            "text/plain": [
              "array([[0.44391215],\n",
              "       [0.44116515],\n",
              "       [0.43712232],\n",
              "       ...,\n",
              "       [0.4680324 ],\n",
              "       [0.46736413],\n",
              "       [0.46631458]], dtype=float32)"
            ]
          },
          "metadata": {},
          "execution_count": 188
        }
      ]
    },
    {
      "cell_type": "code",
      "metadata": {
        "colab": {
          "base_uri": "https://localhost:8080/"
        },
        "id": "L9ooX9uB9bRH",
        "outputId": "460475f1-8926-4d7a-d5de-a705e9e48e41"
      },
      "source": [
        "roc_auc_score(testY, result[:, -1])"
      ],
      "execution_count": 170,
      "outputs": [
        {
          "output_type": "execute_result",
          "data": {
            "text/plain": [
              "0.6475687889778496"
            ]
          },
          "metadata": {},
          "execution_count": 170
        }
      ]
    },
    {
      "cell_type": "code",
      "metadata": {
        "id": "lKroaMG077y9"
      },
      "source": [
        "fpr, tpr, thersolds = roc_curve(testY, result[:, -1])"
      ],
      "execution_count": 175,
      "outputs": []
    },
    {
      "cell_type": "code",
      "metadata": {
        "colab": {
          "base_uri": "https://localhost:8080/",
          "height": 278
        },
        "id": "720ZKTDZ9aD3",
        "outputId": "79f64166-c3f0-41ce-c69f-15e6f2a61ee3"
      },
      "source": [
        "plt.plot(fpr, tpr)\n",
        "plt.plot([0,1], '--')\n",
        "plt.xlabel('False Positive Rate')\n",
        "plt.ylabel('True Positive Rate')\n",
        "plt.grid()\n",
        "plt.show()"
      ],
      "execution_count": 178,
      "outputs": [
        {
          "output_type": "display_data",
          "data": {
            "image/png": "[encoded data removed]",
            "text/plain": [
              "<Figure size 432x288 with 1 Axes>"
            ]
          },
          "metadata": {
            "needs_background": "light"
          }
        }
      ]
    }
  ]
}