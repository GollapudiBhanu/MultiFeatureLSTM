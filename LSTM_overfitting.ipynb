{
  "nbformat": 4,
  "nbformat_minor": 0,
  "metadata": {
    "colab": {
      "name": "LSTM_Sample.ipynb",
      "provenance": [],
      "collapsed_sections": []
    },
    "kernelspec": {
      "display_name": "Python 3",
      "name": "python3"
    },
    "language_info": {
      "name": "python"
    }
  },
  "cells": [
    {
      "cell_type": "code",
      "metadata": {
        "colab": {
          "base_uri": "https://localhost:8080/"
        },
        "id": "1PN94TEz3EB7",
        "outputId": "269840e3-0506-4307-a66f-f199587da87b"
      },
      "source": [
        "from google.colab import drive \n",
        "drive.mount('gdrive')"
      ],
      "execution_count": 9,
      "outputs": [
        {
          "output_type": "stream",
          "name": "stdout",
          "text": [
            "Drive already mounted at gdrive; to attempt to forcibly remount, call drive.mount(\"gdrive\", force_remount=True).\n"
          ]
        }
      ]
    },
    {
      "cell_type": "code",
      "metadata": {
        "id": "hjtV_nFI3Hhb"
      },
      "source": [
        "import pandas as pd\n",
        "from pprint import pprint\n",
        "import numpy as np\n",
        "from sklearn.model_selection import train_test_split\n",
        "import tensorflow as tf\n",
        "import tensorflow.keras as keras\n",
        "from tensorflow.keras.preprocessing.sequence import TimeseriesGenerator\n",
        "from tensorflow.keras import layers, models, backend as K, callbacks\n",
        "from keras.layers import LSTM\n",
        "from keras.models import load_model\n",
        "from keras.callbacks import ModelCheckpoint\n",
        "from sklearn.preprocessing import MinMaxScaler\n",
        "import numpy as np\n",
        "import pandas as pd\n",
        "from pprint import pprint\n",
        "import numpy as np\n",
        "from sklearn.model_selection import train_test_split\n",
        "import tensorflow as tf\n",
        "import tensorflow.keras as keras\n",
        "from tensorflow.keras.preprocessing.sequence import TimeseriesGenerator\n",
        "from tensorflow.keras import layers, models, backend as K, callbacks\n",
        "from keras.layers import LSTM\n",
        "from keras.models import load_model\n",
        "from keras.callbacks import ModelCheckpoint\n",
        "from sklearn import preprocessing\n",
        "from tensorflow.keras.optimizers import SGD\n",
        "from tensorflow.keras.utils import to_categorical\n",
        "from keras import regularizers\n",
        "from keras.layers import TimeDistributed\n",
        "import numpy"
      ],
      "execution_count": 10,
      "outputs": []
    },
    {
      "cell_type": "code",
      "metadata": {
        "colab": {
          "base_uri": "https://localhost:8080/"
        },
        "id": "bbjy3d6O3PBV",
        "outputId": "ecf8d25e-6dd2-4045-8545-fb37e924ae4f"
      },
      "source": [
        "stock_market_df = pd.read_csv('/content/gdrive/MyDrive/Stock_market_label_data.csv')\n",
        "stock_market_df['Match'] = stock_market_df['Match'].replace(['-1'], '0')\n",
        "stock_market_df.drop(columns=['Company_Name', 'Unnamed: 0', 'Date', 'Name'], inplace=True)\n",
        "stock_market_df.fillna(0)\n",
        "stock_market_df = stock_market_df[: 15862]"
      ],
      "execution_count": 11,
      "outputs": [
        {
          "output_type": "stream",
          "name": "stderr",
          "text": [
            "/usr/local/lib/python3.7/dist-packages/IPython/core/interactiveshell.py:2718: DtypeWarning: Columns (86) have mixed types.Specify dtype option on import or set low_memory=False.\n",
            "  interactivity=interactivity, compiler=compiler, result=result)\n"
          ]
        }
      ]
    },
    {
      "cell_type": "code",
      "metadata": {
        "id": "P1kNXbEN63f3"
      },
      "source": [
        "columns = stock_market_df.columns"
      ],
      "execution_count": 12,
      "outputs": []
    },
    {
      "cell_type": "code",
      "metadata": {
        "id": "_QjfdQLQ3UkN"
      },
      "source": [
        "stock_market_df_1 = stock_market_df.drop(columns=['Match'])\n",
        "X=stock_market_df_1.values"
      ],
      "execution_count": 13,
      "outputs": []
    },
    {
      "cell_type": "code",
      "metadata": {
        "id": "uMt1G0Uf3WSP"
      },
      "source": [
        "norm = MinMaxScaler()\n",
        "X_norm = norm.fit_transform(stock_market_df)\n",
        "X_norm = pd.DataFrame(X_norm, columns = columns)\n",
        "X_norm.head()"
      ],
      "execution_count": null,
      "outputs": []
    },
    {
      "cell_type": "code",
      "metadata": {
        "id": "6a9RjGrZ7MNw"
      },
      "source": [
        "scaler = MinMaxScaler(feature_range=(0, 1))\n",
        "dataset = scaler.fit_transform(stock_market_df)"
      ],
      "execution_count": 15,
      "outputs": []
    },
    {
      "cell_type": "code",
      "metadata": {
        "id": "CrSbxdByU7a0"
      },
      "source": [
        "dataset"
      ],
      "execution_count": null,
      "outputs": []
    },
    {
      "cell_type": "code",
      "metadata": {
        "colab": {
          "base_uri": "https://localhost:8080/"
        },
        "id": "qL6m_90S7T6d",
        "outputId": "b2efd74a-f382-4eb7-f2a8-60a2b186fb81"
      },
      "source": [
        "train_size = int(len(dataset) * 0.67)\n",
        "test_size = len(dataset) - train_size\n",
        "train, test = dataset[0:train_size,:], dataset[train_size:len(dataset),:]\n",
        "print(len(train), len(test))"
      ],
      "execution_count": 16,
      "outputs": [
        {
          "output_type": "stream",
          "name": "stdout",
          "text": [
            "10627 5235\n"
          ]
        }
      ]
    },
    {
      "cell_type": "code",
      "metadata": {
        "id": "6WOXIkCX7Zh7"
      },
      "source": [
        "def create_dataset(dataset, look_back=1):\n",
        "\tdataX, dataY = [], []\n",
        "\tfor i in range(len(dataset)-look_back-1):\n",
        "\t\ta = dataset[i:(i+look_back), 0]\n",
        "\t\tdataX.append(a)\n",
        "\t\tdataY.append(dataset[i + look_back, 0])\n",
        "\treturn numpy.array(dataX), numpy.array(dataY)"
      ],
      "execution_count": 17,
      "outputs": []
    },
    {
      "cell_type": "code",
      "metadata": {
        "id": "jhE5DiGq7hPU"
      },
      "source": [
        "look_back = 1\n",
        "trainX, trainY = create_dataset(train, look_back)\n",
        "testX, testY = create_dataset(test, look_back)"
      ],
      "execution_count": 18,
      "outputs": []
    },
    {
      "cell_type": "code",
      "metadata": {
        "colab": {
          "base_uri": "https://localhost:8080/"
        },
        "id": "-TcHb1O0XunH",
        "outputId": "c540b962-d2f7-4112-8784-a0ecbeac1e41"
      },
      "source": [
        "trainY.shape"
      ],
      "execution_count": 26,
      "outputs": [
        {
          "output_type": "execute_result",
          "data": {
            "text/plain": [
              "(10625,)"
            ]
          },
          "metadata": {},
          "execution_count": 26
        }
      ]
    },
    {
      "cell_type": "code",
      "metadata": {
        "id": "Wjd5cp2v7oHc"
      },
      "source": [
        "trainX = numpy.reshape(trainX, (trainX.shape[0], 1, trainX.shape[1]))\n",
        "testX = numpy.reshape(testX, (testX.shape[0], 1, testX.shape[1]))"
      ],
      "execution_count": 19,
      "outputs": []
    },
    {
      "cell_type": "code",
      "metadata": {
        "colab": {
          "base_uri": "https://localhost:8080/"
        },
        "id": "8Ylrmls8bCzA",
        "outputId": "8f2c923e-9dbe-49a3-87ea-3ec0484298ef"
      },
      "source": [
        "trainX.shape"
      ],
      "execution_count": 27,
      "outputs": [
        {
          "output_type": "execute_result",
          "data": {
            "text/plain": [
              "(10625, 1, 1)"
            ]
          },
          "metadata": {},
          "execution_count": 27
        }
      ]
    },
    {
      "cell_type": "code",
      "metadata": {
        "id": "IAZ2fAFf7qpk",
        "colab": {
          "base_uri": "https://localhost:8080/"
        },
        "outputId": "7b572be6-7564-48e2-a44f-e6ed6d75d41c"
      },
      "source": [
        "model = tf.keras.Sequential()\n",
        "model.add(layers.LSTM(4, input_shape=(1, look_back), return_sequences=True))\n",
        "model.add(TimeDistributed(layers.Dense(1, activation='sigmoid')))\n",
        "model.compile(loss='binary_crossentropy', optimizer='adam', metrics = [tf.keras.metrics.AUC()])\n",
        "model.fit(trainX, trainY, epochs=100, batch_size=1, verbose=2)"
      ],
      "execution_count": null,
      "outputs": [
        {
          "output_type": "stream",
          "name": "stdout",
          "text": [
            "Epoch 1/100\n",
            "10625/10625 - 17s - loss: 0.5426 - auc: 0.9462\n",
            "Epoch 2/100\n",
            "10625/10625 - 14s - loss: 0.5256 - auc: 0.9976\n",
            "Epoch 3/100\n",
            "10625/10625 - 14s - loss: 0.5251 - auc: 0.9974\n",
            "Epoch 4/100\n",
            "10625/10625 - 14s - loss: 0.5248 - auc: 0.9989\n",
            "Epoch 5/100\n",
            "10625/10625 - 14s - loss: 0.5248 - auc: 0.9992\n",
            "Epoch 6/100\n",
            "10625/10625 - 14s - loss: 0.5248 - auc: 0.9992\n",
            "Epoch 7/100\n",
            "10625/10625 - 14s - loss: 0.5248 - auc: 0.9990\n",
            "Epoch 8/100\n",
            "10625/10625 - 14s - loss: 0.5248 - auc: 0.9986\n",
            "Epoch 9/100\n",
            "10625/10625 - 14s - loss: 0.5248 - auc: 0.9985\n",
            "Epoch 10/100\n",
            "10625/10625 - 14s - loss: 0.5248 - auc: 0.9996\n",
            "Epoch 11/100\n",
            "10625/10625 - 14s - loss: 0.5248 - auc: 0.9998\n",
            "Epoch 12/100\n",
            "10625/10625 - 14s - loss: 0.5248 - auc: 0.9997\n",
            "Epoch 13/100\n",
            "10625/10625 - 14s - loss: 0.5248 - auc: 0.9996\n",
            "Epoch 14/100\n",
            "10625/10625 - 15s - loss: 0.5248 - auc: 0.9996\n",
            "Epoch 15/100\n",
            "10625/10625 - 15s - loss: 0.5248 - auc: 0.9994\n",
            "Epoch 16/100\n",
            "10625/10625 - 14s - loss: 0.5248 - auc: 0.9995\n",
            "Epoch 17/100\n",
            "10625/10625 - 14s - loss: 0.5248 - auc: 0.9992\n",
            "Epoch 18/100\n",
            "10625/10625 - 14s - loss: 0.5248 - auc: 0.9995\n",
            "Epoch 19/100\n",
            "10625/10625 - 14s - loss: 0.5248 - auc: 0.9995\n",
            "Epoch 20/100\n",
            "10625/10625 - 14s - loss: 0.5248 - auc: 0.9995\n",
            "Epoch 21/100\n",
            "10625/10625 - 14s - loss: 0.5248 - auc: 0.9993\n",
            "Epoch 22/100\n",
            "10625/10625 - 15s - loss: 0.5248 - auc: 0.9994\n",
            "Epoch 23/100\n",
            "10625/10625 - 14s - loss: 0.5248 - auc: 0.9993\n",
            "Epoch 24/100\n",
            "10625/10625 - 14s - loss: 0.5248 - auc: 0.9994\n",
            "Epoch 25/100\n",
            "10625/10625 - 14s - loss: 0.5248 - auc: 0.9992\n",
            "Epoch 26/100\n",
            "10625/10625 - 14s - loss: 0.5248 - auc: 0.9992\n",
            "Epoch 27/100\n",
            "10625/10625 - 14s - loss: 0.5248 - auc: 0.9991\n",
            "Epoch 28/100\n",
            "10625/10625 - 14s - loss: 0.5248 - auc: 0.9992\n",
            "Epoch 29/100\n",
            "10625/10625 - 14s - loss: 0.5248 - auc: 0.9992\n",
            "Epoch 30/100\n",
            "10625/10625 - 14s - loss: 0.5248 - auc: 0.9991\n",
            "Epoch 31/100\n",
            "10625/10625 - 14s - loss: 0.5248 - auc: 0.9991\n",
            "Epoch 32/100\n",
            "10625/10625 - 14s - loss: 0.5248 - auc: 0.9992\n",
            "Epoch 33/100\n",
            "10625/10625 - 13s - loss: 0.5248 - auc: 0.9991\n",
            "Epoch 34/100\n",
            "10625/10625 - 14s - loss: 0.5248 - auc: 0.9990\n",
            "Epoch 35/100\n",
            "10625/10625 - 14s - loss: 0.5248 - auc: 0.9990\n",
            "Epoch 36/100\n",
            "10625/10625 - 14s - loss: 0.5248 - auc: 0.9989\n",
            "Epoch 37/100\n",
            "10625/10625 - 14s - loss: 0.5248 - auc: 0.9988\n",
            "Epoch 38/100\n",
            "10625/10625 - 14s - loss: 0.5248 - auc: 0.9991\n",
            "Epoch 39/100\n",
            "10625/10625 - 14s - loss: 0.5248 - auc: 0.9987\n",
            "Epoch 40/100\n",
            "10625/10625 - 14s - loss: 0.5248 - auc: 0.9992\n",
            "Epoch 41/100\n",
            "10625/10625 - 14s - loss: 0.5248 - auc: 0.9991\n",
            "Epoch 42/100\n",
            "10625/10625 - 14s - loss: 0.5248 - auc: 0.9992\n",
            "Epoch 43/100\n",
            "10625/10625 - 14s - loss: 0.5248 - auc: 0.9996\n",
            "Epoch 44/100\n",
            "10625/10625 - 14s - loss: 0.5248 - auc: 0.9998\n",
            "Epoch 45/100\n",
            "10625/10625 - 15s - loss: 0.5248 - auc: 0.9997\n",
            "Epoch 46/100\n",
            "10625/10625 - 15s - loss: 0.5247 - auc: 0.9998\n",
            "Epoch 47/100\n",
            "10625/10625 - 14s - loss: 0.5248 - auc: 0.9998\n",
            "Epoch 48/100\n",
            "10625/10625 - 14s - loss: 0.5248 - auc: 0.9997\n",
            "Epoch 49/100\n",
            "10625/10625 - 14s - loss: 0.5248 - auc: 0.9996\n",
            "Epoch 50/100\n",
            "10625/10625 - 14s - loss: 0.5247 - auc: 0.9997\n",
            "Epoch 51/100\n",
            "10625/10625 - 14s - loss: 0.5247 - auc: 0.9997\n",
            "Epoch 52/100\n",
            "10625/10625 - 14s - loss: 0.5247 - auc: 0.9996\n",
            "Epoch 53/100\n",
            "10625/10625 - 14s - loss: 0.5247 - auc: 0.9996\n",
            "Epoch 54/100\n",
            "10625/10625 - 13s - loss: 0.5247 - auc: 0.9995\n",
            "Epoch 55/100\n",
            "10625/10625 - 13s - loss: 0.5247 - auc: 0.9996\n",
            "Epoch 56/100\n",
            "10625/10625 - 13s - loss: 0.5247 - auc: 0.9993\n",
            "Epoch 57/100\n",
            "10625/10625 - 13s - loss: 0.5247 - auc: 0.9993\n",
            "Epoch 58/100\n",
            "10625/10625 - 14s - loss: 0.5247 - auc: 0.9994\n",
            "Epoch 59/100\n",
            "10625/10625 - 13s - loss: 0.5247 - auc: 0.9994\n",
            "Epoch 60/100\n",
            "10625/10625 - 13s - loss: 0.5247 - auc: 0.9993\n",
            "Epoch 61/100\n",
            "10625/10625 - 14s - loss: 0.5247 - auc: 0.9990\n",
            "Epoch 62/100\n",
            "10625/10625 - 14s - loss: 0.5247 - auc: 0.9992\n",
            "Epoch 63/100\n",
            "10625/10625 - 13s - loss: 0.5247 - auc: 0.9992\n",
            "Epoch 64/100\n",
            "10625/10625 - 13s - loss: 0.5247 - auc: 0.9992\n",
            "Epoch 65/100\n",
            "10625/10625 - 13s - loss: 0.5247 - auc: 0.9992\n",
            "Epoch 66/100\n",
            "10625/10625 - 14s - loss: 0.5247 - auc: 0.9992\n",
            "Epoch 67/100\n",
            "10625/10625 - 13s - loss: 0.5247 - auc: 0.9992\n",
            "Epoch 68/100\n",
            "10625/10625 - 13s - loss: 0.5247 - auc: 0.9992\n",
            "Epoch 69/100\n",
            "10625/10625 - 14s - loss: 0.5247 - auc: 0.9992\n",
            "Epoch 70/100\n",
            "10625/10625 - 13s - loss: 0.5247 - auc: 0.9992\n",
            "Epoch 71/100\n",
            "10625/10625 - 13s - loss: 0.5247 - auc: 0.9991\n",
            "Epoch 72/100\n",
            "10625/10625 - 13s - loss: 0.5247 - auc: 0.9991\n",
            "Epoch 73/100\n",
            "10625/10625 - 13s - loss: 0.5247 - auc: 0.9992\n",
            "Epoch 74/100\n",
            "10625/10625 - 13s - loss: 0.5247 - auc: 0.9992\n",
            "Epoch 75/100\n",
            "10625/10625 - 13s - loss: 0.5247 - auc: 0.9990\n",
            "Epoch 76/100\n",
            "10625/10625 - 13s - loss: 0.5247 - auc: 0.9991\n",
            "Epoch 77/100\n",
            "10625/10625 - 14s - loss: 0.5247 - auc: 0.9990\n",
            "Epoch 78/100\n",
            "10625/10625 - 14s - loss: 0.5247 - auc: 0.9991\n",
            "Epoch 79/100\n",
            "10625/10625 - 13s - loss: 0.5247 - auc: 0.9990\n",
            "Epoch 80/100\n",
            "10625/10625 - 14s - loss: 0.5247 - auc: 0.9990\n",
            "Epoch 81/100\n",
            "10625/10625 - 13s - loss: 0.5247 - auc: 0.9989\n",
            "Epoch 82/100\n",
            "10625/10625 - 13s - loss: 0.5247 - auc: 0.9991\n",
            "Epoch 83/100\n",
            "10625/10625 - 13s - loss: 0.5247 - auc: 0.9990\n",
            "Epoch 84/100\n",
            "10625/10625 - 13s - loss: 0.5247 - auc: 0.9990\n",
            "Epoch 85/100\n",
            "10625/10625 - 13s - loss: 0.5247 - auc: 0.9989\n",
            "Epoch 86/100\n",
            "10625/10625 - 13s - loss: 0.5247 - auc: 0.9990\n",
            "Epoch 87/100\n",
            "10625/10625 - 13s - loss: 0.5247 - auc: 0.9989\n",
            "Epoch 88/100\n",
            "10625/10625 - 13s - loss: 0.5247 - auc: 0.9991\n",
            "Epoch 89/100\n",
            "10625/10625 - 13s - loss: 0.5247 - auc: 0.9989\n",
            "Epoch 90/100\n",
            "10625/10625 - 14s - loss: 0.5247 - auc: 0.9990\n",
            "Epoch 91/100\n",
            "10625/10625 - 14s - loss: 0.5247 - auc: 0.9989\n",
            "Epoch 92/100\n",
            "10625/10625 - 15s - loss: 0.5247 - auc: 0.9989\n",
            "Epoch 93/100\n",
            "10625/10625 - 14s - loss: 0.5247 - auc: 0.9990\n",
            "Epoch 94/100\n",
            "10625/10625 - 14s - loss: 0.5247 - auc: 0.9989\n",
            "Epoch 95/100\n"
          ]
        }
      ]
    },
    {
      "cell_type": "code",
      "metadata": {
        "colab": {
          "background_save": true
        },
        "id": "sEexcS-J81Oi"
      },
      "source": [
        "checkpoint_filepath = '/content/sample_data/checkpoint'\n",
        "model_checkpoint_callback = tf.keras.callbacks.ModelCheckpoint(\n",
        "    filepath=checkpoint_filepath,\n",
        "    monitor='val_accuracy',\n",
        "    mode='max')\n",
        "history = model.fit(trainX,trainY,validation_data=(testX, testY),epochs=100, batch_size=1, verbose=2, callbacks=[model_checkpoint_callback])\n"
      ],
      "execution_count": null,
      "outputs": []
    }
  ]
}