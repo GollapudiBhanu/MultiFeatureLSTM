{
  "nbformat": 4,
  "nbformat_minor": 0,
  "metadata": {
    "colab": {
      "name": "LSTM_LookBack_30.ipynb",
      "provenance": []
    },
    "kernelspec": {
      "name": "python3",
      "display_name": "Python 3"
    },
    "language_info": {
      "name": "python"
    }
  },
  "cells": [
    {
      "cell_type": "code",
      "metadata": {
        "colab": {
          "base_uri": "https://localhost:8080/"
        },
        "id": "KlPConrdUZwC",
        "outputId": "7877307f-df22-4be1-edd8-19cfdc392641"
      },
      "source": [
        "from google.colab import drive \n",
        "drive.mount('gdrive')"
      ],
      "execution_count": 1,
      "outputs": [
        {
          "output_type": "stream",
          "name": "stdout",
          "text": [
            "Mounted at gdrive\n"
          ]
        }
      ]
    },
    {
      "cell_type": "code",
      "metadata": {
        "id": "ZG9z9r0pUnis"
      },
      "source": [
        "import pandas as pd\n",
        "import numpy as np\n",
        "from sklearn.preprocessing import MinMaxScaler\n",
        "from sklearn.model_selection import train_test_split\n",
        "import tensorflow as tf\n",
        "import tensorflow.keras as keras\n",
        "from tensorflow.keras.preprocessing.sequence import TimeseriesGenerator\n",
        "from tensorflow.keras import layers, models, backend as K, callbacks\n",
        "from keras.layers import LSTM\n",
        "from keras.models import load_model\n",
        "from keras.callbacks import ModelCheckpoint\n",
        "from sklearn import preprocessing\n",
        "from tensorflow.keras.optimizers import SGD\n",
        "from tensorflow.keras.utils import to_categorical\n",
        "from keras import regularizers\n",
        "from keras.layers import TimeDistributed\n",
        "import math\n",
        "from sklearn.metrics import roc_auc_score"
      ],
      "execution_count": 173,
      "outputs": []
    },
    {
      "cell_type": "code",
      "metadata": {
        "colab": {
          "base_uri": "https://localhost:8080/"
        },
        "id": "r-GX_KvEUqp0",
        "outputId": "6a5ad6fc-ba47-463d-f219-3dfe78c782a5"
      },
      "source": [
        "stock_market_df = pd.read_csv('/content/gdrive/MyDrive/Stock_market_label_data.csv')\n",
        "stock_market_df['Match'] = stock_market_df['Match'].replace(['-1'], '0')\n",
        "stock_market_df.drop(columns=['Company_Name', 'Unnamed: 0', 'Date', 'Name'], inplace=True)\n",
        "stock_market_df.fillna(0)\n",
        "stock_market_df = stock_market_df[: 15862]"
      ],
      "execution_count": 255,
      "outputs": [
        {
          "output_type": "stream",
          "name": "stderr",
          "text": [
            "/usr/local/lib/python3.7/dist-packages/IPython/core/interactiveshell.py:2718: DtypeWarning: Columns (86) have mixed types.Specify dtype option on import or set low_memory=False.\n",
            "  interactivity=interactivity, compiler=compiler, result=result)\n"
          ]
        }
      ]
    },
    {
      "cell_type": "code",
      "metadata": {
        "id": "-Jt_qG9NU7t3"
      },
      "source": [
        "stock_market_df_1 = stock_market_df.drop(columns=['Match'])\n",
        "X=stock_market_df_1.values.astype(float)\n",
        "y= stock_market_df['Match'].values.astype(float)"
      ],
      "execution_count": 256,
      "outputs": []
    },
    {
      "cell_type": "code",
      "metadata": {
        "colab": {
          "base_uri": "https://localhost:8080/"
        },
        "id": "tfm4RxuC43y0",
        "outputId": "d7a9d433-cb4b-4bce-ce4d-c279274f402b"
      },
      "source": [
        "y"
      ],
      "execution_count": 213,
      "outputs": [
        {
          "output_type": "execute_result",
          "data": {
            "text/plain": [
              "array([1., 1., 1., ..., 1., 0., 0.])"
            ]
          },
          "metadata": {},
          "execution_count": 213
        }
      ]
    },
    {
      "cell_type": "code",
      "metadata": {
        "id": "dlUIKRi-VXc4"
      },
      "source": [
        "scaler = MinMaxScaler(feature_range=(0, 1))\n",
        "dataset = scaler.fit_transform(X)"
      ],
      "execution_count": 257,
      "outputs": []
    },
    {
      "cell_type": "code",
      "metadata": {
        "id": "WV2Pr0HpVqf8"
      },
      "source": [
        "def create_dataset(dataset, look_back=1):\n",
        "\tdataX, dataY = [], []\n",
        "\tfor i in range(len(dataset)-look_back-1):\n",
        "\t\ta = dataset[i:(i+look_back), 0]\n",
        "\t\tdataX.append(a)\n",
        "\t\tdataY.append(dataset[i + look_back, 0])\n",
        "\treturn np.array(dataX), np.array(dataY)"
      ],
      "execution_count": 258,
      "outputs": []
    },
    {
      "cell_type": "code",
      "metadata": {
        "colab": {
          "base_uri": "https://localhost:8080/"
        },
        "id": "L7pJ33B_kgFY",
        "outputId": "cdf4785e-0a2d-444b-9e04-4e40268781ad"
      },
      "source": [
        "train_size = int(len(dataset) * 0.80)\n",
        "test_size = len(dataset) - train_size\n",
        "train, test = dataset[0:train_size,:], dataset[train_size:len(dataset),:]\n",
        "print(len(train), len(test))"
      ],
      "execution_count": 259,
      "outputs": [
        {
          "output_type": "stream",
          "name": "stdout",
          "text": [
            "12689 3173\n"
          ]
        }
      ]
    },
    {
      "cell_type": "code",
      "metadata": {
        "id": "KNgSb6BzY6Wq"
      },
      "source": [
        "look_back = 30\n",
        "trainX, trainY = create_dataset(train, look_back)\n",
        "testX, testY = create_dataset(test, look_back)"
      ],
      "execution_count": 218,
      "outputs": []
    },
    {
      "cell_type": "code",
      "metadata": {
        "colab": {
          "base_uri": "https://localhost:8080/"
        },
        "id": "ZR9-xOldI12q",
        "outputId": "b963806c-1213-4042-b541-f3725ee5c957"
      },
      "source": [
        "trainX"
      ],
      "execution_count": 243,
      "outputs": [
        {
          "output_type": "execute_result",
          "data": {
            "text/plain": [
              "array([[[0.0534392 , 0.0534392 , 0.0534392 , ..., 0.06393363,\n",
              "         0.06393363, 0.06393363]],\n",
              "\n",
              "       [[0.0534392 , 0.0534392 , 0.0534392 , ..., 0.06393363,\n",
              "         0.06393363, 0.06393363]],\n",
              "\n",
              "       [[0.0534392 , 0.0534392 , 0.0534392 , ..., 0.06393363,\n",
              "         0.06393363, 0.06393363]],\n",
              "\n",
              "       ...,\n",
              "\n",
              "       [[0.5937898 , 0.59170225, 0.59170225, ..., 0.60602886,\n",
              "         0.60602886, 0.60602886]],\n",
              "\n",
              "       [[0.59170225, 0.59170225, 0.59170225, ..., 0.60602886,\n",
              "         0.60602886, 0.60602886]],\n",
              "\n",
              "       [[0.59170225, 0.59170225, 0.59170225, ..., 0.60602886,\n",
              "         0.60602886, 0.60602886]]])"
            ]
          },
          "metadata": {},
          "execution_count": 243
        }
      ]
    },
    {
      "cell_type": "code",
      "metadata": {
        "colab": {
          "base_uri": "https://localhost:8080/"
        },
        "id": "XfcPJninF-RN",
        "outputId": "46bf2f79-9162-4b6c-8d2e-7419cf7ea784"
      },
      "source": [
        "trainY"
      ],
      "execution_count": 242,
      "outputs": [
        {
          "output_type": "execute_result",
          "data": {
            "text/plain": [
              "array([0.06393363, 0.06393363, 0.0663247 , ..., 0.60602886, 0.60602886,\n",
              "       0.60602886])"
            ]
          },
          "metadata": {},
          "execution_count": 242
        }
      ]
    },
    {
      "cell_type": "code",
      "metadata": {
        "id": "NKpSKA96ZqBA"
      },
      "source": [
        "trainX = np.reshape(trainX, (trainX.shape[0], 1, trainX.shape[1]))\n",
        "testX = np.reshape(testX, (testX.shape[0], 1, testX.shape[1]))"
      ],
      "execution_count": 219,
      "outputs": []
    },
    {
      "cell_type": "code",
      "metadata": {
        "colab": {
          "base_uri": "https://localhost:8080/"
        },
        "id": "EJwqrwTLZv86",
        "outputId": "6eb01199-d43b-4f4a-bedb-5cc79fc7c49b"
      },
      "source": [
        "print(trainX.shape)\n",
        "print(testX.shape)\n",
        "print(trainY.shape)\n",
        "print(testY.shape)"
      ],
      "execution_count": 220,
      "outputs": [
        {
          "output_type": "stream",
          "name": "stdout",
          "text": [
            "(12658, 1, 30)\n",
            "(3142, 1, 30)\n",
            "(12658,)\n",
            "(3142,)\n"
          ]
        }
      ]
    },
    {
      "cell_type": "code",
      "metadata": {
        "colab": {
          "base_uri": "https://localhost:8080/"
        },
        "id": "sBDBqIDGZ06o",
        "outputId": "4e6eba51-d038-4c05-ea1a-292dae27e9c7"
      },
      "source": [
        "model = tf.keras.Sequential()\n",
        "model.add(layers.LSTM(4, input_shape=(1, 30), return_sequences=True))\n",
        "model.add(TimeDistributed(layers.Dense(1, activation='sigmoid')))\n",
        "model.compile(loss='binary_crossentropy', optimizer='adam', metrics = [tf.keras.metrics.AUC()])\n",
        "model.fit(trainX, trainY, epochs=100, batch_size=1, verbose=2)"
      ],
      "execution_count": 241,
      "outputs": [
        {
          "output_type": "stream",
          "name": "stdout",
          "text": [
            "Epoch 1/100\n",
            "12658/12658 - 18s - loss: 0.5591 - auc_10: 0.8899\n",
            "Epoch 2/100\n",
            "12658/12658 - 16s - loss: 0.5515 - auc_10: 0.9988\n",
            "Epoch 3/100\n",
            "12658/12658 - 16s - loss: 0.5514 - auc_10: 0.9989\n",
            "Epoch 4/100\n",
            "12658/12658 - 17s - loss: 0.5514 - auc_10: 0.9994\n",
            "Epoch 5/100\n",
            "12658/12658 - 16s - loss: 0.5513 - auc_10: 0.9992\n",
            "Epoch 6/100\n",
            "12658/12658 - 16s - loss: 0.5513 - auc_10: 0.9991\n",
            "Epoch 7/100\n",
            "12658/12658 - 16s - loss: 0.5513 - auc_10: 0.9990\n",
            "Epoch 8/100\n",
            "12658/12658 - 17s - loss: 0.5513 - auc_10: 0.9989\n",
            "Epoch 9/100\n",
            "12658/12658 - 16s - loss: 0.5513 - auc_10: 0.9988\n",
            "Epoch 10/100\n",
            "12658/12658 - 16s - loss: 0.5513 - auc_10: 0.9990\n",
            "Epoch 11/100\n",
            "12658/12658 - 16s - loss: 0.5513 - auc_10: 0.9991\n",
            "Epoch 12/100\n",
            "12658/12658 - 16s - loss: 0.5513 - auc_10: 0.9996\n",
            "Epoch 13/100\n",
            "12658/12658 - 16s - loss: 0.5513 - auc_10: 0.9996\n",
            "Epoch 14/100\n",
            "12658/12658 - 16s - loss: 0.5513 - auc_10: 0.9993\n",
            "Epoch 15/100\n",
            "12658/12658 - 16s - loss: 0.5513 - auc_10: 0.9994\n",
            "Epoch 16/100\n",
            "12658/12658 - 17s - loss: 0.5513 - auc_10: 0.9992\n",
            "Epoch 17/100\n",
            "12658/12658 - 16s - loss: 0.5513 - auc_10: 0.9991\n",
            "Epoch 18/100\n",
            "12658/12658 - 16s - loss: 0.5513 - auc_10: 0.9993\n",
            "Epoch 19/100\n",
            "12658/12658 - 17s - loss: 0.5513 - auc_10: 0.9994\n",
            "Epoch 20/100\n",
            "12658/12658 - 16s - loss: 0.5513 - auc_10: 0.9997\n",
            "Epoch 21/100\n",
            "12658/12658 - 16s - loss: 0.5513 - auc_10: 0.9997\n",
            "Epoch 22/100\n",
            "12658/12658 - 16s - loss: 0.5513 - auc_10: 0.9995\n",
            "Epoch 23/100\n",
            "12658/12658 - 16s - loss: 0.5513 - auc_10: 0.9997\n",
            "Epoch 24/100\n",
            "12658/12658 - 16s - loss: 0.5513 - auc_10: 0.9996\n",
            "Epoch 25/100\n",
            "12658/12658 - 16s - loss: 0.5513 - auc_10: 0.9996\n",
            "Epoch 26/100\n",
            "12658/12658 - 16s - loss: 0.5513 - auc_10: 0.9995\n",
            "Epoch 27/100\n",
            "12658/12658 - 17s - loss: 0.5513 - auc_10: 0.9994\n",
            "Epoch 28/100\n",
            "12658/12658 - 16s - loss: 0.5513 - auc_10: 0.9996\n",
            "Epoch 29/100\n",
            "12658/12658 - 16s - loss: 0.5513 - auc_10: 0.9995\n",
            "Epoch 30/100\n",
            "12658/12658 - 16s - loss: 0.5513 - auc_10: 0.9996\n",
            "Epoch 31/100\n",
            "12658/12658 - 16s - loss: 0.5513 - auc_10: 0.9995\n",
            "Epoch 32/100\n",
            "12658/12658 - 16s - loss: 0.5513 - auc_10: 0.9995\n",
            "Epoch 33/100\n",
            "12658/12658 - 16s - loss: 0.5513 - auc_10: 0.9994\n",
            "Epoch 34/100\n",
            "12658/12658 - 16s - loss: 0.5512 - auc_10: 0.9994\n",
            "Epoch 35/100\n",
            "12658/12658 - 16s - loss: 0.5513 - auc_10: 0.9994\n",
            "Epoch 36/100\n",
            "12658/12658 - 16s - loss: 0.5512 - auc_10: 0.9993\n",
            "Epoch 37/100\n",
            "12658/12658 - 16s - loss: 0.5512 - auc_10: 0.9993\n",
            "Epoch 38/100\n",
            "12658/12658 - 16s - loss: 0.5512 - auc_10: 0.9994\n",
            "Epoch 39/100\n",
            "12658/12658 - 16s - loss: 0.5512 - auc_10: 0.9993\n",
            "Epoch 40/100\n",
            "12658/12658 - 16s - loss: 0.5512 - auc_10: 0.9993\n",
            "Epoch 41/100\n",
            "12658/12658 - 16s - loss: 0.5512 - auc_10: 0.9993\n",
            "Epoch 42/100\n",
            "12658/12658 - 16s - loss: 0.5512 - auc_10: 0.9993\n",
            "Epoch 43/100\n",
            "12658/12658 - 16s - loss: 0.5512 - auc_10: 0.9992\n",
            "Epoch 44/100\n",
            "12658/12658 - 16s - loss: 0.5512 - auc_10: 0.9992\n",
            "Epoch 45/100\n",
            "12658/12658 - 16s - loss: 0.5512 - auc_10: 0.9992\n",
            "Epoch 46/100\n",
            "12658/12658 - 17s - loss: 0.5512 - auc_10: 0.9991\n",
            "Epoch 47/100\n",
            "12658/12658 - 16s - loss: 0.5512 - auc_10: 0.9992\n",
            "Epoch 48/100\n",
            "12658/12658 - 17s - loss: 0.5512 - auc_10: 0.9992\n",
            "Epoch 49/100\n",
            "12658/12658 - 16s - loss: 0.5512 - auc_10: 0.9992\n",
            "Epoch 50/100\n",
            "12658/12658 - 16s - loss: 0.5512 - auc_10: 0.9992\n",
            "Epoch 51/100\n",
            "12658/12658 - 16s - loss: 0.5512 - auc_10: 0.9992\n",
            "Epoch 52/100\n",
            "12658/12658 - 16s - loss: 0.5512 - auc_10: 0.9992\n",
            "Epoch 53/100\n",
            "12658/12658 - 16s - loss: 0.5512 - auc_10: 0.9992\n",
            "Epoch 54/100\n",
            "12658/12658 - 16s - loss: 0.5512 - auc_10: 0.9991\n",
            "Epoch 55/100\n",
            "12658/12658 - 16s - loss: 0.5512 - auc_10: 0.9991\n",
            "Epoch 56/100\n",
            "12658/12658 - 17s - loss: 0.5512 - auc_10: 0.9991\n",
            "Epoch 57/100\n",
            "12658/12658 - 16s - loss: 0.5512 - auc_10: 0.9991\n",
            "Epoch 58/100\n",
            "12658/12658 - 16s - loss: 0.5512 - auc_10: 0.9992\n",
            "Epoch 59/100\n",
            "12658/12658 - 16s - loss: 0.5512 - auc_10: 0.9991\n",
            "Epoch 60/100\n",
            "12658/12658 - 16s - loss: 0.5512 - auc_10: 0.9991\n",
            "Epoch 61/100\n",
            "12658/12658 - 16s - loss: 0.5512 - auc_10: 0.9991\n",
            "Epoch 62/100\n",
            "12658/12658 - 16s - loss: 0.5512 - auc_10: 0.9991\n",
            "Epoch 63/100\n",
            "12658/12658 - 16s - loss: 0.5512 - auc_10: 0.9991\n",
            "Epoch 64/100\n",
            "12658/12658 - 16s - loss: 0.5512 - auc_10: 0.9991\n",
            "Epoch 65/100\n",
            "12658/12658 - 17s - loss: 0.5512 - auc_10: 0.9991\n",
            "Epoch 66/100\n",
            "12658/12658 - 16s - loss: 0.5512 - auc_10: 0.9991\n",
            "Epoch 67/100\n",
            "12658/12658 - 16s - loss: 0.5512 - auc_10: 0.9991\n",
            "Epoch 68/100\n",
            "12658/12658 - 16s - loss: 0.5512 - auc_10: 0.9991\n",
            "Epoch 69/100\n",
            "12658/12658 - 16s - loss: 0.5512 - auc_10: 0.9990\n",
            "Epoch 70/100\n",
            "12658/12658 - 16s - loss: 0.5512 - auc_10: 0.9991\n",
            "Epoch 71/100\n",
            "12658/12658 - 16s - loss: 0.5512 - auc_10: 0.9991\n",
            "Epoch 72/100\n",
            "12658/12658 - 16s - loss: 0.5512 - auc_10: 0.9991\n",
            "Epoch 73/100\n",
            "12658/12658 - 16s - loss: 0.5512 - auc_10: 0.9991\n",
            "Epoch 74/100\n",
            "12658/12658 - 16s - loss: 0.5512 - auc_10: 0.9991\n",
            "Epoch 75/100\n",
            "12658/12658 - 16s - loss: 0.5512 - auc_10: 0.9991\n",
            "Epoch 76/100\n",
            "12658/12658 - 16s - loss: 0.5512 - auc_10: 0.9991\n",
            "Epoch 77/100\n",
            "12658/12658 - 16s - loss: 0.5512 - auc_10: 0.9991\n",
            "Epoch 78/100\n",
            "12658/12658 - 16s - loss: 0.5512 - auc_10: 0.9990\n",
            "Epoch 79/100\n",
            "12658/12658 - 16s - loss: 0.5512 - auc_10: 0.9991\n",
            "Epoch 80/100\n",
            "12658/12658 - 16s - loss: 0.5512 - auc_10: 0.9991\n",
            "Epoch 81/100\n",
            "12658/12658 - 16s - loss: 0.5512 - auc_10: 0.9991\n",
            "Epoch 82/100\n",
            "12658/12658 - 16s - loss: 0.5512 - auc_10: 0.9991\n",
            "Epoch 83/100\n",
            "12658/12658 - 16s - loss: 0.5512 - auc_10: 0.9989\n",
            "Epoch 84/100\n",
            "12658/12658 - 16s - loss: 0.5512 - auc_10: 0.9990\n",
            "Epoch 85/100\n",
            "12658/12658 - 16s - loss: 0.5512 - auc_10: 0.9991\n",
            "Epoch 86/100\n",
            "12658/12658 - 16s - loss: 0.5512 - auc_10: 0.9991\n",
            "Epoch 87/100\n",
            "12658/12658 - 16s - loss: 0.5512 - auc_10: 0.9990\n",
            "Epoch 88/100\n",
            "12658/12658 - 16s - loss: 0.5512 - auc_10: 0.9991\n",
            "Epoch 89/100\n",
            "12658/12658 - 16s - loss: 0.5512 - auc_10: 0.9991\n",
            "Epoch 90/100\n",
            "12658/12658 - 16s - loss: 0.5512 - auc_10: 0.9991\n",
            "Epoch 91/100\n",
            "12658/12658 - 16s - loss: 0.5512 - auc_10: 0.9991\n",
            "Epoch 92/100\n",
            "12658/12658 - 16s - loss: 0.5512 - auc_10: 0.9991\n",
            "Epoch 93/100\n",
            "12658/12658 - 16s - loss: 0.5512 - auc_10: 0.9989\n",
            "Epoch 94/100\n",
            "12658/12658 - 16s - loss: 0.5512 - auc_10: 0.9990\n",
            "Epoch 95/100\n",
            "12658/12658 - 16s - loss: 0.5512 - auc_10: 0.9990\n",
            "Epoch 96/100\n",
            "12658/12658 - 16s - loss: 0.5512 - auc_10: 0.9991\n",
            "Epoch 97/100\n",
            "12658/12658 - 16s - loss: 0.5512 - auc_10: 0.9989\n",
            "Epoch 98/100\n",
            "12658/12658 - 16s - loss: 0.5512 - auc_10: 0.9990\n",
            "Epoch 99/100\n",
            "12658/12658 - 16s - loss: 0.5512 - auc_10: 0.9990\n",
            "Epoch 100/100\n",
            "12658/12658 - 16s - loss: 0.5512 - auc_10: 0.9993\n"
          ]
        },
        {
          "output_type": "execute_result",
          "data": {
            "text/plain": [
              "<keras.callbacks.History at 0x7fd5ec26ee90>"
            ]
          },
          "metadata": {},
          "execution_count": 241
        }
      ]
    },
    {
      "cell_type": "code",
      "metadata": {
        "id": "IhaSqNrk-mUB"
      },
      "source": [
        "def naive_roc_auc_score(y_true, y_pred):\n",
        "  num_same_sign = 0\n",
        "  num_pairs = 0\n",
        "  for a in range(len(y_true)):\n",
        "    for b in range(len(y_true)):\n",
        "      if y_true[a] > y_true[b]:\n",
        "        num_pairs += 1\n",
        "        if y_pred[a] > y_pred[b]:\n",
        "          num_same_sign += 1\n",
        "        elif y_pred[a] == y_pred[b]:\n",
        "          num_same_sign += .5\n",
        "  return num_same_sign / num_pairs"
      ],
      "execution_count": 223,
      "outputs": []
    },
    {
      "cell_type": "code",
      "metadata": {
        "colab": {
          "base_uri": "https://localhost:8080/"
        },
        "id": "7UIyHcE8tFpZ",
        "outputId": "1a76c2f7-4443-4ff6-b5bc-5d6d5b183847"
      },
      "source": [
        "result = model.predict(testX, batch_size=testX.shape[0], verbose=1)"
      ],
      "execution_count": 260,
      "outputs": [
        {
          "output_type": "stream",
          "name": "stdout",
          "text": [
            "1/1 [==============================] - 0s 347ms/step\n"
          ]
        }
      ]
    },
    {
      "cell_type": "code",
      "metadata": {
        "id": "N5DdtcFGMqLd"
      },
      "source": [
        "y_hat = result.reshape(-1)\n",
        "y = testY.reshape(-1)"
      ],
      "execution_count": 261,
      "outputs": []
    },
    {
      "cell_type": "code",
      "metadata": {
        "colab": {
          "base_uri": "https://localhost:8080/"
        },
        "id": "9f3xJcAlttt5",
        "outputId": "fcef6f5e-ee1c-42b3-93d0-63ad0497f941"
      },
      "source": [
        "y_hat.shape"
      ],
      "execution_count": 262,
      "outputs": [
        {
          "output_type": "execute_result",
          "data": {
            "text/plain": [
              "(3142,)"
            ]
          },
          "metadata": {},
          "execution_count": 262
        }
      ]
    },
    {
      "cell_type": "code",
      "metadata": {
        "colab": {
          "base_uri": "https://localhost:8080/"
        },
        "id": "FPZMwd7RtvBb",
        "outputId": "f861f325-c18c-4bc3-a5db-fc86b705c4f2"
      },
      "source": [
        "y.shape"
      ],
      "execution_count": 264,
      "outputs": [
        {
          "output_type": "execute_result",
          "data": {
            "text/plain": [
              "(3142,)"
            ]
          },
          "metadata": {},
          "execution_count": 264
        }
      ]
    },
    {
      "cell_type": "code",
      "metadata": {
        "colab": {
          "base_uri": "https://localhost:8080/"
        },
        "id": "_Jif9XrIASCZ",
        "outputId": "42f6512e-b486-4ffa-cca1-3e32460774f3"
      },
      "source": [
        "naive_roc_auc_score(y, y_hat)"
      ],
      "execution_count": 265,
      "outputs": [
        {
          "output_type": "execute_result",
          "data": {
            "text/plain": [
              "0.9934443473808363"
            ]
          },
          "metadata": {},
          "execution_count": 265
        }
      ]
    }
  ]
}