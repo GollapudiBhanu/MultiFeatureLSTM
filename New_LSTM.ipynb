{
  "nbformat": 4,
  "nbformat_minor": 0,
  "metadata": {
    "colab": {
      "name": "New_LSTM.ipynb",
      "provenance": [],
      "collapsed_sections": []
    },
    "kernelspec": {
      "name": "python3",
      "display_name": "Python 3"
    },
    "language_info": {
      "name": "python"
    }
  },
  "cells": [
    {
      "cell_type": "code",
      "metadata": {
        "colab": {
          "base_uri": "https://localhost:8080/"
        },
        "id": "0HtvtXuSJEXx",
        "outputId": "69ad66f3-54be-4b3f-a6ef-850e5d50cca1"
      },
      "source": [
        "from google.colab import drive \n",
        "drive.mount('gdrive')"
      ],
      "execution_count": 1,
      "outputs": [
        {
          "output_type": "stream",
          "name": "stdout",
          "text": [
            "Drive already mounted at gdrive; to attempt to forcibly remount, call drive.mount(\"gdrive\", force_remount=True).\n"
          ]
        }
      ]
    },
    {
      "cell_type": "code",
      "metadata": {
        "id": "IA7fxj6BJNlp"
      },
      "source": [
        "import numpy as np\n",
        "import matplotlib.pyplot as plt\n",
        "import pandas as pd\n",
        "from pandas import read_csv\n",
        "import math\n",
        "import time\n",
        "from sklearn.preprocessing import MinMaxScaler\n",
        "from sklearn.metrics import mean_squared_error\n",
        "from keras.layers.core import Dense, Activation, Dropout\n",
        "from keras.models import Sequential\n",
        "from keras.layers import Dense\n",
        "from sklearn.model_selection import train_test_split\n",
        "from keras.layers import LSTM\n",
        "import tensorflow as tf\n",
        "import tensorflow.keras as keras\n",
        "from tensorflow.keras.preprocessing.sequence import TimeseriesGenerator\n",
        "from tensorflow.keras import layers, models, backend as K, callbacks\n",
        "from keras.layers import LSTM\n",
        "from keras.models import load_model\n",
        "from keras.callbacks import ModelCheckpoint\n",
        "from sklearn import preprocessing\n",
        "from tensorflow.keras.optimizers import SGD\n",
        "from tensorflow.keras.utils import to_categorical\n",
        "from keras import regularizers\n",
        "from keras.layers import TimeDistributed\n",
        "from sklearn.metrics import roc_auc_score"
      ],
      "execution_count": 162,
      "outputs": []
    },
    {
      "cell_type": "code",
      "metadata": {
        "id": "ay35WGPQJeMI"
      },
      "source": [
        "stock_market_df = pd.read_csv('/content/gdrive/MyDrive/Stock_market_label_data.csv')\n",
        "stock_market_df['Match'] = stock_market_df['Match'].replace(['-1'], '0')\n",
        "stock_market_df.drop(columns=['Company_Name', 'Unnamed: 0', 'Date', 'Name'], inplace=True)\n",
        "stock_market_df.fillna(0)\n",
        "stock_market_df = stock_market_df[: 15862]"
      ],
      "execution_count": null,
      "outputs": []
    },
    {
      "cell_type": "code",
      "metadata": {
        "id": "g9CyYnfSJhab"
      },
      "source": [
        "stock_market_df_1 = stock_market_df.drop(columns=['Match'])\n",
        "y= stock_market_df['Match']"
      ],
      "execution_count": 118,
      "outputs": []
    },
    {
      "cell_type": "code",
      "metadata": {
        "id": "P7EK-8IWNHmf"
      },
      "source": [
        "X = stock_market_df_1.to_numpy().astype(float)"
      ],
      "execution_count": 119,
      "outputs": []
    },
    {
      "cell_type": "code",
      "metadata": {
        "id": "AdHr8wHZNrR6"
      },
      "source": [
        "X= X.reshape(X.shape[0], -1, X.shape[1])"
      ],
      "execution_count": 122,
      "outputs": []
    },
    {
      "cell_type": "code",
      "metadata": {
        "colab": {
          "base_uri": "https://localhost:8080/"
        },
        "id": "02AuEP0RNWw_",
        "outputId": "7f3a71c0-72b5-4004-e788-ff3cd1aba70d"
      },
      "source": [
        "X.shape"
      ],
      "execution_count": 123,
      "outputs": [
        {
          "output_type": "execute_result",
          "data": {
            "text/plain": [
              "(15862, 1, 82)"
            ]
          },
          "metadata": {},
          "execution_count": 123
        }
      ]
    },
    {
      "cell_type": "code",
      "metadata": {
        "id": "Ys2YQ4TxN5aA"
      },
      "source": [
        "y=y.values.astype(float)"
      ],
      "execution_count": 124,
      "outputs": []
    },
    {
      "cell_type": "code",
      "metadata": {
        "id": "AYtjoPesON6f"
      },
      "source": [
        "y=y.reshape(-1, 1)"
      ],
      "execution_count": 125,
      "outputs": []
    },
    {
      "cell_type": "code",
      "metadata": {
        "id": "uIC2WhWlOX6E"
      },
      "source": [
        "y=y.reshape(y.shape[0], y.shape[1], 1)"
      ],
      "execution_count": 126,
      "outputs": []
    },
    {
      "cell_type": "code",
      "metadata": {
        "id": "RNEYXFFVOxkZ"
      },
      "source": [
        "X= X[:, :, :]\n",
        "y=y[:, :, :]"
      ],
      "execution_count": 127,
      "outputs": []
    },
    {
      "cell_type": "code",
      "metadata": {
        "colab": {
          "base_uri": "https://localhost:8080/"
        },
        "id": "8YUkpEI5PAL-",
        "outputId": "44e8a568-356f-4c4e-df1d-8bbec6d64f1c"
      },
      "source": [
        "X.shape\n"
      ],
      "execution_count": 128,
      "outputs": [
        {
          "output_type": "execute_result",
          "data": {
            "text/plain": [
              "(15862, 1, 82)"
            ]
          },
          "metadata": {},
          "execution_count": 128
        }
      ]
    },
    {
      "cell_type": "code",
      "metadata": {
        "colab": {
          "base_uri": "https://localhost:8080/"
        },
        "id": "Rb1jOz9ePELV",
        "outputId": "05d3f3c0-1a54-42a6-8fc4-76aec3bd40e2"
      },
      "source": [
        "y.shape"
      ],
      "execution_count": 129,
      "outputs": [
        {
          "output_type": "execute_result",
          "data": {
            "text/plain": [
              "(15862, 1, 1)"
            ]
          },
          "metadata": {},
          "execution_count": 129
        }
      ]
    },
    {
      "cell_type": "code",
      "metadata": {
        "id": "mZgL0e7aPp4J"
      },
      "source": [
        "X_train, X_test, y_train, y_test = train_test_split(X, y, test_size=0.33, random_state=42)"
      ],
      "execution_count": 130,
      "outputs": []
    },
    {
      "cell_type": "code",
      "metadata": {
        "colab": {
          "base_uri": "https://localhost:8080/"
        },
        "id": "ue2a_R4sXaCp",
        "outputId": "9bb6690b-bc05-48f5-8071-bc97965a7334"
      },
      "source": [
        "len(X_train)"
      ],
      "execution_count": 155,
      "outputs": [
        {
          "output_type": "execute_result",
          "data": {
            "text/plain": [
              "10627"
            ]
          },
          "metadata": {},
          "execution_count": 155
        }
      ]
    },
    {
      "cell_type": "code",
      "metadata": {
        "colab": {
          "base_uri": "https://localhost:8080/"
        },
        "id": "-P5rN3_cSmQI",
        "outputId": "6fdcc02f-8cf8-4ba1-91a1-3580ea5380e8"
      },
      "source": [
        "print(X_train.shape)\n",
        "print(X_test.shape)\n",
        "print(y_train.shape)\n",
        "print(y_test.shape)"
      ],
      "execution_count": 131,
      "outputs": [
        {
          "output_type": "stream",
          "name": "stdout",
          "text": [
            "(10627, 1, 82)\n",
            "(5235, 1, 82)\n",
            "(10627, 1, 1)\n",
            "(5235, 1, 1)\n"
          ]
        }
      ]
    },
    {
      "cell_type": "code",
      "metadata": {
        "id": "kWoNz_bRPxxR"
      },
      "source": [
        "model = tf.keras.Sequential()\n",
        "model.add(layers.LSTM(124, input_shape=(1, 82), return_sequences=True))\n",
        "model.add(TimeDistributed(layers.Dense(1, activation='sigmoid')))\n",
        "model.compile(loss='binary_crossentropy', optimizer='adam', metrics = [tf.keras.metrics.AUC()])"
      ],
      "execution_count": 153,
      "outputs": []
    },
    {
      "cell_type": "code",
      "metadata": {
        "colab": {
          "base_uri": "https://localhost:8080/"
        },
        "id": "F7Vo4y8PRnrP",
        "outputId": "1e6cd603-1ee1-474d-d66e-c93ffb5cc2c7"
      },
      "source": [
        "model_save_call_backs = ModelCheckpoint('/content/sample_data/Checkpoint', monitor='', mode='max')\n",
        "model.fit(X_train, y_train, epochs=100, batch_size=100, verbose=1,validation_data=(X_test, y_test))"
      ],
      "execution_count": 158,
      "outputs": [
        {
          "output_type": "stream",
          "name": "stdout",
          "text": [
            "Epoch 1/100\n",
            "107/107 [==============================] - 2s 17ms/step - loss: 0.4869 - auc_12: 0.4300 - val_loss: 0.5095 - val_auc_12: 0.4347\n",
            "Epoch 2/100\n",
            "107/107 [==============================] - 1s 11ms/step - loss: 0.4868 - auc_12: 0.4312 - val_loss: 0.5095 - val_auc_12: 0.4347\n",
            "Epoch 3/100\n",
            "107/107 [==============================] - 1s 9ms/step - loss: 0.4866 - auc_12: 0.4388 - val_loss: 0.5094 - val_auc_12: 0.4347\n",
            "Epoch 4/100\n",
            "107/107 [==============================] - 1s 11ms/step - loss: 0.4866 - auc_12: 0.4259 - val_loss: 0.5094 - val_auc_12: 0.4347\n",
            "Epoch 5/100\n",
            "107/107 [==============================] - 1s 10ms/step - loss: 0.4863 - auc_12: 0.4330 - val_loss: 0.5094 - val_auc_12: 0.4347\n",
            "Epoch 6/100\n",
            "107/107 [==============================] - 1s 11ms/step - loss: 0.4862 - auc_12: 0.4279 - val_loss: 0.5094 - val_auc_12: 0.4347\n",
            "Epoch 7/100\n",
            "107/107 [==============================] - 1s 11ms/step - loss: 0.4862 - auc_12: 0.4291 - val_loss: 0.5096 - val_auc_12: 0.4347\n",
            "Epoch 8/100\n",
            "107/107 [==============================] - 1s 10ms/step - loss: 0.4858 - auc_12: 0.4240 - val_loss: 0.5093 - val_auc_12: 0.4347\n",
            "Epoch 9/100\n",
            "107/107 [==============================] - 1s 9ms/step - loss: 0.4856 - auc_12: 0.4294 - val_loss: 0.5092 - val_auc_12: 0.4347\n",
            "Epoch 10/100\n",
            "107/107 [==============================] - 1s 9ms/step - loss: 0.4854 - auc_12: 0.4255 - val_loss: 0.5092 - val_auc_12: 0.4347\n",
            "Epoch 11/100\n",
            "107/107 [==============================] - 1s 9ms/step - loss: 0.4856 - auc_12: 0.4238 - val_loss: 0.5092 - val_auc_12: 0.4347\n",
            "Epoch 12/100\n",
            "107/107 [==============================] - 1s 10ms/step - loss: 0.4850 - auc_12: 0.4335 - val_loss: 0.5090 - val_auc_12: 0.4347\n",
            "Epoch 13/100\n",
            "107/107 [==============================] - 1s 9ms/step - loss: 0.4847 - auc_12: 0.4317 - val_loss: 0.5088 - val_auc_12: 0.4347\n",
            "Epoch 14/100\n",
            "107/107 [==============================] - 1s 9ms/step - loss: 0.4845 - auc_12: 0.4339 - val_loss: 0.5088 - val_auc_12: 0.4347\n",
            "Epoch 15/100\n",
            "107/107 [==============================] - 1s 9ms/step - loss: 0.4843 - auc_12: 0.4330 - val_loss: 0.5090 - val_auc_12: 0.4347\n",
            "Epoch 16/100\n",
            "107/107 [==============================] - 1s 10ms/step - loss: 0.4840 - auc_12: 0.4330 - val_loss: 0.5088 - val_auc_12: 0.4347\n",
            "Epoch 17/100\n",
            "107/107 [==============================] - 1s 8ms/step - loss: 0.4838 - auc_12: 0.4339 - val_loss: 0.5086 - val_auc_12: 0.4347\n",
            "Epoch 18/100\n",
            "107/107 [==============================] - 1s 10ms/step - loss: 0.4835 - auc_12: 0.4384 - val_loss: 0.5085 - val_auc_12: 0.4347\n",
            "Epoch 19/100\n",
            "107/107 [==============================] - 1s 11ms/step - loss: 0.4832 - auc_12: 0.4229 - val_loss: 0.5086 - val_auc_12: 0.4347\n",
            "Epoch 20/100\n",
            "107/107 [==============================] - 1s 10ms/step - loss: 0.4829 - auc_12: 0.4311 - val_loss: 0.5083 - val_auc_12: 0.4347\n",
            "Epoch 21/100\n",
            "107/107 [==============================] - 1s 9ms/step - loss: 0.4828 - auc_12: 0.4224 - val_loss: 0.5087 - val_auc_12: 0.4347\n",
            "Epoch 22/100\n",
            "107/107 [==============================] - 1s 9ms/step - loss: 0.4823 - auc_12: 0.4307 - val_loss: 0.5083 - val_auc_12: 0.4347\n",
            "Epoch 23/100\n",
            "107/107 [==============================] - 1s 8ms/step - loss: 0.4819 - auc_12: 0.4240 - val_loss: 0.5084 - val_auc_12: 0.4347\n",
            "Epoch 24/100\n",
            "107/107 [==============================] - 1s 9ms/step - loss: 0.4815 - auc_12: 0.4281 - val_loss: 0.5080 - val_auc_12: 0.4347\n",
            "Epoch 25/100\n",
            "107/107 [==============================] - 1s 8ms/step - loss: 0.4815 - auc_12: 0.4256 - val_loss: 0.5082 - val_auc_12: 0.4347\n",
            "Epoch 26/100\n",
            "107/107 [==============================] - 1s 10ms/step - loss: 0.4809 - auc_12: 0.4351 - val_loss: 0.5083 - val_auc_12: 0.4347\n",
            "Epoch 27/100\n",
            "107/107 [==============================] - 1s 10ms/step - loss: 0.4805 - auc_12: 0.4266 - val_loss: 0.5083 - val_auc_12: 0.4347\n",
            "Epoch 28/100\n",
            "107/107 [==============================] - 1s 9ms/step - loss: 0.4800 - auc_12: 0.4302 - val_loss: 0.5080 - val_auc_12: 0.4347\n",
            "Epoch 29/100\n",
            "107/107 [==============================] - 1s 9ms/step - loss: 0.4797 - auc_12: 0.4292 - val_loss: 0.5083 - val_auc_12: 0.4347\n",
            "Epoch 30/100\n",
            "107/107 [==============================] - 1s 9ms/step - loss: 0.4794 - auc_12: 0.4278 - val_loss: 0.5079 - val_auc_12: 0.4347\n",
            "Epoch 31/100\n",
            "107/107 [==============================] - 1s 9ms/step - loss: 0.4791 - auc_12: 0.4327 - val_loss: 0.5075 - val_auc_12: 0.4347\n",
            "Epoch 32/100\n",
            "107/107 [==============================] - 1s 9ms/step - loss: 0.4785 - auc_12: 0.4393 - val_loss: 0.5074 - val_auc_12: 0.4347\n",
            "Epoch 33/100\n",
            "107/107 [==============================] - 1s 11ms/step - loss: 0.4780 - auc_12: 0.4306 - val_loss: 0.5073 - val_auc_12: 0.4347\n",
            "Epoch 34/100\n",
            "107/107 [==============================] - 1s 9ms/step - loss: 0.4777 - auc_12: 0.4216 - val_loss: 0.5072 - val_auc_12: 0.4347\n",
            "Epoch 35/100\n",
            "107/107 [==============================] - 1s 9ms/step - loss: 0.4771 - auc_12: 0.4431 - val_loss: 0.5070 - val_auc_12: 0.4347\n",
            "Epoch 36/100\n",
            "107/107 [==============================] - 1s 9ms/step - loss: 0.4765 - auc_12: 0.4331 - val_loss: 0.5071 - val_auc_12: 0.4347\n",
            "Epoch 37/100\n",
            "107/107 [==============================] - 1s 9ms/step - loss: 0.4762 - auc_12: 0.4356 - val_loss: 0.5070 - val_auc_12: 0.4347\n",
            "Epoch 38/100\n",
            "107/107 [==============================] - 1s 9ms/step - loss: 0.4759 - auc_12: 0.4432 - val_loss: 0.5079 - val_auc_12: 0.4347\n",
            "Epoch 39/100\n",
            "107/107 [==============================] - 1s 9ms/step - loss: 0.4752 - auc_12: 0.4337 - val_loss: 0.5067 - val_auc_12: 0.4347\n",
            "Epoch 40/100\n",
            "107/107 [==============================] - 1s 11ms/step - loss: 0.4744 - auc_12: 0.4311 - val_loss: 0.5069 - val_auc_12: 0.4347\n",
            "Epoch 41/100\n",
            "107/107 [==============================] - 1s 11ms/step - loss: 0.4742 - auc_12: 0.4312 - val_loss: 0.5067 - val_auc_12: 0.4347\n",
            "Epoch 42/100\n",
            "107/107 [==============================] - 1s 10ms/step - loss: 0.4731 - auc_12: 0.4386 - val_loss: 0.5068 - val_auc_12: 0.4347\n",
            "Epoch 43/100\n",
            "107/107 [==============================] - 1s 9ms/step - loss: 0.4733 - auc_12: 0.4250 - val_loss: 0.5073 - val_auc_12: 0.4347\n",
            "Epoch 44/100\n",
            "107/107 [==============================] - 1s 11ms/step - loss: 0.4723 - auc_12: 0.4354 - val_loss: 0.5065 - val_auc_12: 0.4347\n",
            "Epoch 45/100\n",
            "107/107 [==============================] - 1s 8ms/step - loss: 0.4719 - auc_12: 0.4345 - val_loss: 0.5062 - val_auc_12: 0.4347\n",
            "Epoch 46/100\n",
            "107/107 [==============================] - 1s 9ms/step - loss: 0.4714 - auc_12: 0.4276 - val_loss: 0.5070 - val_auc_12: 0.4347\n",
            "Epoch 47/100\n",
            "107/107 [==============================] - 1s 10ms/step - loss: 0.4707 - auc_12: 0.4430 - val_loss: 0.5063 - val_auc_12: 0.4347\n",
            "Epoch 48/100\n",
            "107/107 [==============================] - 1s 11ms/step - loss: 0.4704 - auc_12: 0.4345 - val_loss: 0.5063 - val_auc_12: 0.4347\n",
            "Epoch 49/100\n",
            "107/107 [==============================] - 1s 9ms/step - loss: 0.4696 - auc_12: 0.4282 - val_loss: 0.5068 - val_auc_12: 0.4347\n",
            "Epoch 50/100\n",
            "107/107 [==============================] - 1s 9ms/step - loss: 0.4692 - auc_12: 0.4371 - val_loss: 0.5062 - val_auc_12: 0.4347\n",
            "Epoch 51/100\n",
            "107/107 [==============================] - 1s 10ms/step - loss: 0.4683 - auc_12: 0.4323 - val_loss: 0.5070 - val_auc_12: 0.4347\n",
            "Epoch 52/100\n",
            "107/107 [==============================] - 1s 9ms/step - loss: 0.4677 - auc_12: 0.4306 - val_loss: 0.5057 - val_auc_12: 0.4347\n",
            "Epoch 53/100\n",
            "107/107 [==============================] - 1s 9ms/step - loss: 0.4670 - auc_12: 0.4364 - val_loss: 0.5068 - val_auc_12: 0.4347\n",
            "Epoch 54/100\n",
            "107/107 [==============================] - 1s 11ms/step - loss: 0.4665 - auc_12: 0.4233 - val_loss: 0.5055 - val_auc_12: 0.4347\n",
            "Epoch 55/100\n",
            "107/107 [==============================] - 1s 9ms/step - loss: 0.4663 - auc_12: 0.4353 - val_loss: 0.5056 - val_auc_12: 0.4347\n",
            "Epoch 56/100\n",
            "107/107 [==============================] - 1s 10ms/step - loss: 0.4655 - auc_12: 0.4251 - val_loss: 0.5064 - val_auc_12: 0.4347\n",
            "Epoch 57/100\n",
            "107/107 [==============================] - 1s 10ms/step - loss: 0.4647 - auc_12: 0.4348 - val_loss: 0.5070 - val_auc_12: 0.4347\n",
            "Epoch 58/100\n",
            "107/107 [==============================] - 1s 9ms/step - loss: 0.4646 - auc_12: 0.4394 - val_loss: 0.5055 - val_auc_12: 0.4347\n",
            "Epoch 59/100\n",
            "107/107 [==============================] - 1s 9ms/step - loss: 0.4635 - auc_12: 0.4300 - val_loss: 0.5054 - val_auc_12: 0.4347\n",
            "Epoch 60/100\n",
            "107/107 [==============================] - 1s 9ms/step - loss: 0.4630 - auc_12: 0.4294 - val_loss: 0.5049 - val_auc_12: 0.4347\n",
            "Epoch 61/100\n",
            "107/107 [==============================] - 1s 11ms/step - loss: 0.4623 - auc_12: 0.4292 - val_loss: 0.5050 - val_auc_12: 0.4347\n",
            "Epoch 62/100\n",
            "107/107 [==============================] - 1s 9ms/step - loss: 0.4618 - auc_12: 0.4185 - val_loss: 0.5052 - val_auc_12: 0.4347\n",
            "Epoch 63/100\n",
            "107/107 [==============================] - 1s 9ms/step - loss: 0.4612 - auc_12: 0.4335 - val_loss: 0.5045 - val_auc_12: 0.4347\n",
            "Epoch 64/100\n",
            "107/107 [==============================] - 1s 9ms/step - loss: 0.4610 - auc_12: 0.4210 - val_loss: 0.5047 - val_auc_12: 0.4347\n",
            "Epoch 65/100\n",
            "107/107 [==============================] - 1s 9ms/step - loss: 0.4604 - auc_12: 0.4325 - val_loss: 0.5046 - val_auc_12: 0.4347\n",
            "Epoch 66/100\n",
            "107/107 [==============================] - 1s 10ms/step - loss: 0.4592 - auc_12: 0.4293 - val_loss: 0.5043 - val_auc_12: 0.4347\n",
            "Epoch 67/100\n",
            "107/107 [==============================] - 1s 8ms/step - loss: 0.4586 - auc_12: 0.4401 - val_loss: 0.5054 - val_auc_12: 0.4347\n",
            "Epoch 68/100\n",
            "107/107 [==============================] - 1s 9ms/step - loss: 0.4581 - auc_12: 0.4341 - val_loss: 0.5043 - val_auc_12: 0.4347\n",
            "Epoch 69/100\n",
            "107/107 [==============================] - 1s 9ms/step - loss: 0.4575 - auc_12: 0.4294 - val_loss: 0.5039 - val_auc_12: 0.4347\n",
            "Epoch 70/100\n",
            "107/107 [==============================] - 1s 9ms/step - loss: 0.4570 - auc_12: 0.4265 - val_loss: 0.5041 - val_auc_12: 0.4347\n",
            "Epoch 71/100\n",
            "107/107 [==============================] - 1s 11ms/step - loss: 0.4565 - auc_12: 0.4271 - val_loss: 0.5037 - val_auc_12: 0.4347\n",
            "Epoch 72/100\n",
            "107/107 [==============================] - 1s 9ms/step - loss: 0.4559 - auc_12: 0.4332 - val_loss: 0.5037 - val_auc_12: 0.4347\n",
            "Epoch 73/100\n",
            "107/107 [==============================] - 1s 9ms/step - loss: 0.4551 - auc_12: 0.4371 - val_loss: 0.5035 - val_auc_12: 0.4347\n",
            "Epoch 74/100\n",
            "107/107 [==============================] - 1s 9ms/step - loss: 0.4548 - auc_12: 0.4349 - val_loss: 0.5035 - val_auc_12: 0.4347\n",
            "Epoch 75/100\n",
            "107/107 [==============================] - 1s 10ms/step - loss: 0.4542 - auc_12: 0.4278 - val_loss: 0.5038 - val_auc_12: 0.4347\n",
            "Epoch 76/100\n",
            "107/107 [==============================] - 1s 9ms/step - loss: 0.4533 - auc_12: 0.4339 - val_loss: 0.5033 - val_auc_12: 0.4347\n",
            "Epoch 77/100\n",
            "107/107 [==============================] - 1s 9ms/step - loss: 0.4525 - auc_12: 0.4316 - val_loss: 0.5033 - val_auc_12: 0.4347\n",
            "Epoch 78/100\n",
            "107/107 [==============================] - 1s 9ms/step - loss: 0.4516 - auc_12: 0.4391 - val_loss: 0.5044 - val_auc_12: 0.4347\n",
            "Epoch 79/100\n",
            "107/107 [==============================] - 1s 8ms/step - loss: 0.4515 - auc_12: 0.4397 - val_loss: 0.5040 - val_auc_12: 0.4347\n",
            "Epoch 80/100\n",
            "107/107 [==============================] - 1s 10ms/step - loss: 0.4513 - auc_12: 0.4274 - val_loss: 0.5035 - val_auc_12: 0.4347\n",
            "Epoch 81/100\n",
            "107/107 [==============================] - 1s 9ms/step - loss: 0.4497 - auc_12: 0.4264 - val_loss: 0.5023 - val_auc_12: 0.4347\n",
            "Epoch 82/100\n",
            "107/107 [==============================] - 1s 11ms/step - loss: 0.4492 - auc_12: 0.4241 - val_loss: 0.5024 - val_auc_12: 0.4347\n",
            "Epoch 83/100\n",
            "107/107 [==============================] - 1s 9ms/step - loss: 0.4490 - auc_12: 0.4243 - val_loss: 0.5024 - val_auc_12: 0.4347\n",
            "Epoch 84/100\n",
            "107/107 [==============================] - 1s 9ms/step - loss: 0.4485 - auc_12: 0.4278 - val_loss: 0.5031 - val_auc_12: 0.4347\n",
            "Epoch 85/100\n",
            "107/107 [==============================] - 1s 11ms/step - loss: 0.4478 - auc_12: 0.4287 - val_loss: 0.5021 - val_auc_12: 0.4347\n",
            "Epoch 86/100\n",
            "107/107 [==============================] - 1s 10ms/step - loss: 0.4469 - auc_12: 0.4271 - val_loss: 0.5025 - val_auc_12: 0.4347\n",
            "Epoch 87/100\n",
            "107/107 [==============================] - 1s 9ms/step - loss: 0.4464 - auc_12: 0.4267 - val_loss: 0.5022 - val_auc_12: 0.4347\n",
            "Epoch 88/100\n",
            "107/107 [==============================] - 1s 9ms/step - loss: 0.4463 - auc_12: 0.4342 - val_loss: 0.5018 - val_auc_12: 0.4347\n",
            "Epoch 89/100\n",
            "107/107 [==============================] - 1s 10ms/step - loss: 0.4452 - auc_12: 0.4282 - val_loss: 0.5016 - val_auc_12: 0.4347\n",
            "Epoch 90/100\n",
            "107/107 [==============================] - 1s 11ms/step - loss: 0.4447 - auc_12: 0.4346 - val_loss: 0.5017 - val_auc_12: 0.4347\n",
            "Epoch 91/100\n",
            "107/107 [==============================] - 1s 10ms/step - loss: 0.4444 - auc_12: 0.4315 - val_loss: 0.5018 - val_auc_12: 0.4347\n",
            "Epoch 92/100\n",
            "107/107 [==============================] - 1s 11ms/step - loss: 0.4440 - auc_12: 0.4319 - val_loss: 0.5016 - val_auc_12: 0.4347\n",
            "Epoch 93/100\n",
            "107/107 [==============================] - 1s 11ms/step - loss: 0.4432 - auc_12: 0.4325 - val_loss: 0.5016 - val_auc_12: 0.4347\n",
            "Epoch 94/100\n",
            "107/107 [==============================] - 1s 10ms/step - loss: 0.4428 - auc_12: 0.4287 - val_loss: 0.5014 - val_auc_12: 0.4347\n",
            "Epoch 95/100\n",
            "107/107 [==============================] - 1s 11ms/step - loss: 0.4420 - auc_12: 0.4407 - val_loss: 0.5013 - val_auc_12: 0.4347\n",
            "Epoch 96/100\n",
            "107/107 [==============================] - 1s 10ms/step - loss: 0.4415 - auc_12: 0.4276 - val_loss: 0.5008 - val_auc_12: 0.4347\n",
            "Epoch 97/100\n",
            "107/107 [==============================] - 1s 9ms/step - loss: 0.4412 - auc_12: 0.4389 - val_loss: 0.5012 - val_auc_12: 0.4347\n",
            "Epoch 98/100\n",
            "107/107 [==============================] - 1s 9ms/step - loss: 0.4406 - auc_12: 0.4375 - val_loss: 0.5013 - val_auc_12: 0.4347\n",
            "Epoch 99/100\n",
            "107/107 [==============================] - 1s 11ms/step - loss: 0.4402 - auc_12: 0.4186 - val_loss: 0.5010 - val_auc_12: 0.4347\n",
            "Epoch 100/100\n",
            "107/107 [==============================] - 1s 9ms/step - loss: 0.4394 - auc_12: 0.4277 - val_loss: 0.5024 - val_auc_12: 0.4347\n"
          ]
        },
        {
          "output_type": "execute_result",
          "data": {
            "text/plain": [
              "<keras.callbacks.History at 0x7fc23d503d50>"
            ]
          },
          "metadata": {},
          "execution_count": 158
        }
      ]
    },
    {
      "cell_type": "code",
      "metadata": {
        "colab": {
          "base_uri": "https://localhost:8080/"
        },
        "id": "QZ7NGHHWszQf",
        "outputId": "d6acbd4c-4459-45fe-9c31-175cdb24fc37"
      },
      "source": [
        "result = model.predict(X_test, batch_size=X_test.shape[0], verbose=1)"
      ],
      "execution_count": 264,
      "outputs": [
        {
          "output_type": "stream",
          "name": "stdout",
          "text": [
            "1/1 [==============================] - 0s 51ms/step\n"
          ]
        }
      ]
    },
    {
      "cell_type": "code",
      "metadata": {
        "id": "CslnY4ur9waQ"
      },
      "source": [
        "predict_classes=np.argmax(result,axis=1)\n"
      ],
      "execution_count": 265,
      "outputs": []
    },
    {
      "cell_type": "code",
      "metadata": {
        "colab": {
          "base_uri": "https://localhost:8080/"
        },
        "id": "JmPj28kT9Tk3",
        "outputId": "7d312fbf-94e7-4385-a27b-ad20762fa3a9"
      },
      "source": [
        "predict_classes.shape"
      ],
      "execution_count": 266,
      "outputs": [
        {
          "output_type": "execute_result",
          "data": {
            "text/plain": [
              "(5235, 1)"
            ]
          },
          "metadata": {},
          "execution_count": 266
        }
      ]
    },
    {
      "cell_type": "code",
      "metadata": {
        "colab": {
          "base_uri": "https://localhost:8080/"
        },
        "id": "DPidhlXi7Gbd",
        "outputId": "44c52d66-4fba-42d6-e7ff-ca7e6cfd90e0"
      },
      "source": [
        "y_test.shape"
      ],
      "execution_count": 267,
      "outputs": [
        {
          "output_type": "execute_result",
          "data": {
            "text/plain": [
              "(5235, 1, 1)"
            ]
          },
          "metadata": {},
          "execution_count": 267
        }
      ]
    },
    {
      "cell_type": "code",
      "metadata": {
        "id": "4FRXjWtttGSq"
      },
      "source": [
        "y_hat = predict_classes.reshape(-1, 1).astype(float)\n",
        "y = y_test.reshape(-1, 1)"
      ],
      "execution_count": 268,
      "outputs": []
    },
    {
      "cell_type": "code",
      "metadata": {
        "colab": {
          "base_uri": "https://localhost:8080/"
        },
        "id": "RPrnCX6NtyLn",
        "outputId": "687bdc4c-142e-4245-b5c0-2c9fed7891dc"
      },
      "source": [
        "y_hat.shape"
      ],
      "execution_count": 269,
      "outputs": [
        {
          "output_type": "execute_result",
          "data": {
            "text/plain": [
              "(5235, 1)"
            ]
          },
          "metadata": {},
          "execution_count": 269
        }
      ]
    },
    {
      "cell_type": "code",
      "metadata": {
        "colab": {
          "base_uri": "https://localhost:8080/"
        },
        "id": "FkFivgJv4_Cy",
        "outputId": "a949f93a-56d9-416a-ff6f-f5506b6da41a"
      },
      "source": [
        "y_hat.shape"
      ],
      "execution_count": 270,
      "outputs": [
        {
          "output_type": "execute_result",
          "data": {
            "text/plain": [
              "(5235, 1)"
            ]
          },
          "metadata": {},
          "execution_count": 270
        }
      ]
    },
    {
      "cell_type": "code",
      "metadata": {
        "colab": {
          "base_uri": "https://localhost:8080/"
        },
        "id": "8ciPJYdOt2cN",
        "outputId": "081d6698-5c05-4a82-9c0e-e20dcbe127ea"
      },
      "source": [
        "y.shape"
      ],
      "execution_count": 271,
      "outputs": [
        {
          "output_type": "execute_result",
          "data": {
            "text/plain": [
              "(5235, 1)"
            ]
          },
          "metadata": {},
          "execution_count": 271
        }
      ]
    },
    {
      "cell_type": "code",
      "metadata": {
        "colab": {
          "base_uri": "https://localhost:8080/"
        },
        "id": "2AzD9FrB5Alg",
        "outputId": "dc9c2820-a5fa-4552-a196-aed4b7aad52c"
      },
      "source": [
        "y.shape"
      ],
      "execution_count": 272,
      "outputs": [
        {
          "output_type": "execute_result",
          "data": {
            "text/plain": [
              "(5235, 1)"
            ]
          },
          "metadata": {},
          "execution_count": 272
        }
      ]
    },
    {
      "cell_type": "code",
      "metadata": {
        "colab": {
          "base_uri": "https://localhost:8080/",
          "height": 371
        },
        "id": "vFNBBkPutUR5",
        "outputId": "557d2bf3-178a-4b9d-b688-118ab3fc0ca9"
      },
      "source": [
        "#roc_auc_score(y,y_hat,multi_class='ovo')\n",
        "roc_auc_score(y, y_hat, multi_class='ovo')"
      ],
      "execution_count": 274,
      "outputs": [
        {
          "output_type": "error",
          "ename": "ValueError",
          "evalue": "ignored",
          "traceback": [
            "\u001b[0;31m---------------------------------------------------------------------------\u001b[0m",
            "\u001b[0;31mValueError\u001b[0m                                Traceback (most recent call last)",
            "\u001b[0;32m<ipython-input-274-96ed35b722e2>\u001b[0m in \u001b[0;36m<module>\u001b[0;34m()\u001b[0m\n\u001b[1;32m      1\u001b[0m \u001b[0;31m#roc_auc_score(y,y_hat,multi_class='ovo')\u001b[0m\u001b[0;34m\u001b[0m\u001b[0;34m\u001b[0m\u001b[0;34m\u001b[0m\u001b[0m\n\u001b[1;32m      2\u001b[0m \u001b[0;34m\u001b[0m\u001b[0m\n\u001b[0;32m----> 3\u001b[0;31m \u001b[0mroc_auc_score\u001b[0m\u001b[0;34m(\u001b[0m\u001b[0my\u001b[0m\u001b[0;34m,\u001b[0m \u001b[0my_hat\u001b[0m\u001b[0;34m,\u001b[0m \u001b[0mmulti_class\u001b[0m\u001b[0;34m=\u001b[0m\u001b[0;34m'ovo'\u001b[0m\u001b[0;34m)\u001b[0m\u001b[0;34m\u001b[0m\u001b[0;34m\u001b[0m\u001b[0m\n\u001b[0m",
            "\u001b[0;32m/usr/local/lib/python3.7/dist-packages/sklearn/metrics/_ranking.py\u001b[0m in \u001b[0;36mroc_auc_score\u001b[0;34m(y_true, y_score, average, sample_weight, max_fpr, multi_class, labels)\u001b[0m\n\u001b[1;32m    381\u001b[0m             \u001b[0;32mraise\u001b[0m \u001b[0mValueError\u001b[0m\u001b[0;34m(\u001b[0m\u001b[0;34m\"multi_class must be in ('ovo', 'ovr')\"\u001b[0m\u001b[0;34m)\u001b[0m\u001b[0;34m\u001b[0m\u001b[0;34m\u001b[0m\u001b[0m\n\u001b[1;32m    382\u001b[0m         return _multiclass_roc_auc_score(y_true, y_score, labels,\n\u001b[0;32m--> 383\u001b[0;31m                                          multi_class, average, sample_weight)\n\u001b[0m\u001b[1;32m    384\u001b[0m     \u001b[0;32melif\u001b[0m \u001b[0my_type\u001b[0m \u001b[0;34m==\u001b[0m \u001b[0;34m\"binary\"\u001b[0m\u001b[0;34m:\u001b[0m\u001b[0;34m\u001b[0m\u001b[0;34m\u001b[0m\u001b[0m\n\u001b[1;32m    385\u001b[0m         \u001b[0mlabels\u001b[0m \u001b[0;34m=\u001b[0m \u001b[0mnp\u001b[0m\u001b[0;34m.\u001b[0m\u001b[0munique\u001b[0m\u001b[0;34m(\u001b[0m\u001b[0my_true\u001b[0m\u001b[0;34m)\u001b[0m\u001b[0;34m\u001b[0m\u001b[0;34m\u001b[0m\u001b[0m\n",
            "\u001b[0;32m/usr/local/lib/python3.7/dist-packages/sklearn/metrics/_ranking.py\u001b[0m in \u001b[0;36m_multiclass_roc_auc_score\u001b[0;34m(y_true, y_score, labels, multi_class, average, sample_weight)\u001b[0m\n\u001b[1;32m    440\u001b[0m     \u001b[0;32mif\u001b[0m \u001b[0;32mnot\u001b[0m \u001b[0mnp\u001b[0m\u001b[0;34m.\u001b[0m\u001b[0mallclose\u001b[0m\u001b[0;34m(\u001b[0m\u001b[0;36m1\u001b[0m\u001b[0;34m,\u001b[0m \u001b[0my_score\u001b[0m\u001b[0;34m.\u001b[0m\u001b[0msum\u001b[0m\u001b[0;34m(\u001b[0m\u001b[0maxis\u001b[0m\u001b[0;34m=\u001b[0m\u001b[0;36m1\u001b[0m\u001b[0;34m)\u001b[0m\u001b[0;34m)\u001b[0m\u001b[0;34m:\u001b[0m\u001b[0;34m\u001b[0m\u001b[0;34m\u001b[0m\u001b[0m\n\u001b[1;32m    441\u001b[0m         raise ValueError(\n\u001b[0;32m--> 442\u001b[0;31m             \u001b[0;34m\"Target scores need to be probabilities for multiclass \"\u001b[0m\u001b[0;34m\u001b[0m\u001b[0;34m\u001b[0m\u001b[0m\n\u001b[0m\u001b[1;32m    443\u001b[0m             \"roc_auc, i.e. they should sum up to 1.0 over classes\")\n\u001b[1;32m    444\u001b[0m \u001b[0;34m\u001b[0m\u001b[0m\n",
            "\u001b[0;31mValueError\u001b[0m: Target scores need to be probabilities for multiclass roc_auc, i.e. they should sum up to 1.0 over classes"
          ]
        }
      ]
    }
  ]
}