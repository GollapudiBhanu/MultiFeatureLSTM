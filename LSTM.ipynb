{
  "nbformat": 4,
  "nbformat_minor": 0,
  "metadata": {
    "colab": {
      "name": "LSTM.ipynb",
      "provenance": []
    },
    "kernelspec": {
      "name": "python3",
      "display_name": "Python 3"
    },
    "language_info": {
      "name": "python"
    }
  },
  "cells": [
    {
      "cell_type": "code",
      "metadata": {
        "colab": {
          "base_uri": "https://localhost:8080/"
        },
        "id": "PJeiU5AquR93",
        "outputId": "af94a5ab-e02d-4170-fae0-f7557c776c9f"
      },
      "source": [
        "from google.colab import drive \n",
        "drive.mount('gdrive')"
      ],
      "execution_count": null,
      "outputs": [
        {
          "output_type": "stream",
          "name": "stdout",
          "text": [
            "Drive already mounted at gdrive; to attempt to forcibly remount, call drive.mount(\"gdrive\", force_remount=True).\n"
          ]
        }
      ]
    },
    {
      "cell_type": "code",
      "metadata": {
        "id": "DkZHZYskudWI"
      },
      "source": [
        "import pandas as pd\n",
        "from pprint import pprint\n",
        "import numpy as np\n",
        "from sklearn.model_selection import train_test_split\n",
        "import tensorflow as tf\n",
        "import tensorflow.keras as keras\n",
        "from tensorflow.keras.preprocessing.sequence import TimeseriesGenerator\n",
        "from tensorflow.keras import layers, models, backend as K, callbacks\n",
        "from keras.layers import LSTM\n",
        "from keras.models import load_model\n",
        "from keras.callbacks import ModelCheckpoint\n"
      ],
      "execution_count": 48,
      "outputs": []
    },
    {
      "cell_type": "code",
      "metadata": {
        "id": "g5VxG1nVufX9"
      },
      "source": [
        "stock_market_df = pd.read_csv('/content/gdrive/MyDrive/Stock_market_label_data.csv')\n",
        "stock_market_df.head(10)"
      ],
      "execution_count": null,
      "outputs": []
    },
    {
      "cell_type": "code",
      "metadata": {
        "id": "4Z0iKI9puiLW"
      },
      "source": [
        "stock_market_df.drop(columns=['Company_Name', 'Unnamed: 0', 'Date', 'Name'], inplace=True)\n",
        "stock_market_df['Match'].replace('NAN', -10, inplace=True)"
      ],
      "execution_count": 50,
      "outputs": []
    },
    {
      "cell_type": "code",
      "metadata": {
        "colab": {
          "base_uri": "https://localhost:8080/"
        },
        "id": "6Rz3UsLlBgUP",
        "outputId": "bad594de-6f5a-4de6-ff85-01e7f9e2888f"
      },
      "source": [
        "len(stock_market_df.columns)"
      ],
      "execution_count": 51,
      "outputs": [
        {
          "output_type": "execute_result",
          "data": {
            "text/plain": [
              "83"
            ]
          },
          "metadata": {},
          "execution_count": 51
        }
      ]
    },
    {
      "cell_type": "code",
      "metadata": {
        "id": "TKFS6ymGuoGk"
      },
      "source": [
        "y = stock_market_df.iloc[:, -1].astype(int).values\n",
        "stock_market_df_1 = stock_market_df.drop(columns=['Match'])\n",
        "X=stock_market_df_1.values"
      ],
      "execution_count": 52,
      "outputs": []
    },
    {
      "cell_type": "code",
      "metadata": {
        "id": "S9MeHCgLAU1A"
      },
      "source": [
        "X = np.array(X)\n",
        "y = np.array(y)"
      ],
      "execution_count": 53,
      "outputs": []
    },
    {
      "cell_type": "code",
      "metadata": {
        "id": "IPgUPGkpAUww"
      },
      "source": [
        "X_train, X_test, y_train, y_test = train_test_split(\n",
        "    X, y, test_size=0.2, shuffle=False\n",
        ")"
      ],
      "execution_count": 54,
      "outputs": []
    },
    {
      "cell_type": "code",
      "metadata": {
        "id": "gJa3wNNFCwY1"
      },
      "source": [
        "X_train"
      ],
      "execution_count": null,
      "outputs": []
    },
    {
      "cell_type": "code",
      "metadata": {
        "colab": {
          "base_uri": "https://localhost:8080/"
        },
        "id": "20rLEjlHC2GO",
        "outputId": "e3adb6dc-90f9-446f-9bf8-8c35aaf4304f"
      },
      "source": [
        "y_train"
      ],
      "execution_count": 10,
      "outputs": [
        {
          "output_type": "execute_result",
          "data": {
            "text/plain": [
              "array([ 1,  1,  1, ..., -1, -1, -1])"
            ]
          },
          "metadata": {},
          "execution_count": 10
        }
      ]
    },
    {
      "cell_type": "code",
      "metadata": {
        "id": "IRR2uxZGAttu"
      },
      "source": [
        "X_train, X_valid, y_train, y_valid = train_test_split(\n",
        "    X_train, y_train, test_size=0.1, shuffle=False\n",
        ")"
      ],
      "execution_count": 55,
      "outputs": []
    },
    {
      "cell_type": "code",
      "metadata": {
        "colab": {
          "base_uri": "https://localhost:8080/"
        },
        "id": "GQigpUv6CyzS",
        "outputId": "0914201a-1067-41e8-9f37-d87025a4c977"
      },
      "source": [
        "X_valid.shape"
      ],
      "execution_count": 56,
      "outputs": [
        {
          "output_type": "execute_result",
          "data": {
            "text/plain": [
              "(1270, 82)"
            ]
          },
          "metadata": {},
          "execution_count": 56
        }
      ]
    },
    {
      "cell_type": "code",
      "metadata": {
        "id": "9g05ISYqA13Z"
      },
      "source": [
        "win_length = 60\n",
        "batch_size = 32\n",
        "num_features = 82\n",
        "train_generator = TimeseriesGenerator(np.array(X_train), np.array(y_train),\n",
        "                                     length=win_length,\n",
        "                                     sampling_rate=1,\n",
        "                                     batch_size=batch_size)\n",
        "\n",
        "test_generator = TimeseriesGenerator(np.array(X_test), np.array(y_test),\n",
        "                                     length=win_length,\n",
        "                                     sampling_rate=1,\n",
        "                                     batch_size=batch_size)\n",
        "\n",
        "valid_generator = TimeseriesGenerator(np.array(X_valid), np.array(y_valid),\n",
        "                                     length=win_length,\n",
        "                                     sampling_rate=1,\n",
        "                                     batch_size=batch_size)"
      ],
      "execution_count": 57,
      "outputs": []
    },
    {
      "cell_type": "code",
      "metadata": {
        "id": "iuuvGhi3GXOP"
      },
      "source": [
        "\n",
        "model = tf.keras.Sequential()\n",
        "model.add(LSTM(128, input_shape=(win_length, num_features), return_sequences=True))\n",
        "regressor.add(layers.Dropout(0.2))\n",
        "model.add(layers.LeakyReLU(alpha=0.5))\n",
        "model.add(layers.Dropout(0.3))\n",
        "model.add(layers.Dense(64, activation='relu'))\n",
        "model.add(layers.Dense(1, activation='softmax'))\n",
        "model.compile(loss='mean_squared_error', optimizer='adam', metrics=['accuracy'])\n"
      ],
      "execution_count": 58,
      "outputs": []
    },
    {
      "cell_type": "code",
      "metadata": {
        "id": "GwvAHh5J1lUu",
        "colab": {
          "base_uri": "https://localhost:8080/"
        },
        "outputId": "7b5d3eb3-0139-43bb-ce04-be4bbba715fd"
      },
      "source": [
        "model.summary()"
      ],
      "execution_count": 59,
      "outputs": [
        {
          "output_type": "stream",
          "name": "stdout",
          "text": [
            "Model: \"sequential_21\"\n",
            "_________________________________________________________________\n",
            "Layer (type)                 Output Shape              Param #   \n",
            "=================================================================\n",
            "lstm_48 (LSTM)               (None, 100, 128)          108032    \n",
            "_________________________________________________________________\n",
            "leaky_re_lu_4 (LeakyReLU)    (None, 100, 128)          0         \n",
            "_________________________________________________________________\n",
            "dropout_31 (Dropout)         (None, 100, 128)          0         \n",
            "_________________________________________________________________\n",
            "dense_14 (Dense)             (None, 100, 64)           8256      \n",
            "_________________________________________________________________\n",
            "dense_15 (Dense)             (None, 100, 1)            65        \n",
            "=================================================================\n",
            "Total params: 116,353\n",
            "Trainable params: 116,353\n",
            "Non-trainable params: 0\n",
            "_________________________________________________________________\n"
          ]
        }
      ]
    },
    {
      "cell_type": "code",
      "metadata": {
        "colab": {
          "base_uri": "https://localhost:8080/"
        },
        "id": "yzq86E7DuGHY",
        "outputId": "0527029c-882e-4458-c5ad-01f195175ed8"
      },
      "source": [
        "optimizer = keras.optimizers.Adam()\n",
        "\n",
        "early_stopping = tf.keras.callbacks.EarlyStopping(monitor=\"val_loss\",\n",
        "                                                 patience=20,\n",
        "                                                 mode=\"min\")\n",
        "\n",
        "\n",
        "\n",
        "model.compile(optimizer=optimizer, loss=\"binary_crossentropy\", \n",
        "                   metrics=[\"acc\"])\n",
        "model.fit_generator(train_generator,\n",
        "                   epochs=100,\n",
        "                   validation_data=valid_generator,\n",
        "                   shuffle=False, callbacks=[early_stopping])\n"
      ],
      "execution_count": null,
      "outputs": [
        {
          "output_type": "stream",
          "name": "stderr",
          "text": [
            "/usr/local/lib/python3.7/dist-packages/keras/engine/training.py:1972: UserWarning: `Model.fit_generator` is deprecated and will be removed in a future version. Please use `Model.fit`, which supports generators.\n",
            "  warnings.warn('`Model.fit_generator` is deprecated and '\n"
          ]
        },
        {
          "output_type": "stream",
          "name": "stdout",
          "text": [
            "Epoch 1/100\n",
            "354/354 [==============================] - 100s 278ms/step - loss: 15.5804 - acc: 0.4891 - val_loss: 15.5620 - val_acc: 0.4897\n",
            "Epoch 2/100\n",
            "354/354 [==============================] - 43s 122ms/step - loss: 15.5804 - acc: 0.4891 - val_loss: 15.5620 - val_acc: 0.4897\n"
          ]
        }
      ]
    },
    {
      "cell_type": "code",
      "metadata": {
        "id": "XJ5_6cvoNnmj"
      },
      "source": [
        "regressor = tf.keras.Sequential()\n",
        "\n",
        "regressor.add(LSTM(units = 50, return_sequences = True, input_shape = (X_train.shape[1], 1)))\n",
        "regressor.add(layers.Dropout(0.2))\n",
        "\n",
        "regressor.add(LSTM(units = 50, return_sequences = True))\n",
        "regressor.add(layers.Dropout(0.2))\n",
        "\n",
        "regressor.add(LSTM(units = 50, return_sequences = True))\n",
        "regressor.add(layers.Dropout(0.2))\n",
        "\n",
        "regressor.add(LSTM(units = 50))\n",
        "regressor.add(layers.Dropout(0.2))\n",
        "\n",
        "regressor.add(layers.Dense(units = 1))\n",
        "\n",
        "#regressor.compile(optimizer = 'adam', loss = 'mean_squared_error')\n",
        "regressor.compile(loss='mean_squared_error', optimizer='adam', metrics=['accuracy'])\n",
        "\n",
        "\n",
        "#regressor.fit(X_train, y_train, epochs=100, validation_data=(X_test, y_test), verbose=2, batch_size = 32)\n",
        "regressor.fit(X_train, y_train, epochs = 100, batch_size = 32)"
      ],
      "execution_count": null,
      "outputs": []
    },
    {
      "cell_type": "code",
      "metadata": {
        "id": "0PjkPlVvQ9xa"
      },
      "source": [
        "model = tf.keras.Sequential()\n",
        "model.add(layers.LSTM(128, input_shape=(win_length, num_features), return_sequences=True))\n",
        "model.add(layers.LeakyReLU(alpha=0.5))\n",
        "model.add(layers.Dropout(0.3))\n",
        "model.add(layers.LSTM(64, return_sequences=False))\n",
        "model.add(layers.Dropout(0.3))\n",
        "model.add(layers.Dense(1, activation=\"sigmoid\"))"
      ],
      "execution_count": null,
      "outputs": []
    },
    {
      "cell_type": "code",
      "metadata": {
        "id": "CyNu3DCLRBMo"
      },
      "source": [
        "win_length = 100\n",
        "batch_size = 32\n",
        "num_features = 82\n",
        "\n",
        "model = tf.keras.Sequential()\n",
        "model.add(LSTM(82, input_shape=(win_length, num_features)))\n",
        "model.add(layers.Dropout(0.5))\n",
        "model.add(layers.Dense(82, activation='relu'))\n",
        "model.add(layers.Dense(1, activation='softmax'))\n",
        "model.compile(loss='categorical_crossentropy', optimizer='adam', metrics=['accuracy'])    # fit network"
      ],
      "execution_count": null,
      "outputs": []
    },
    {
      "cell_type": "code",
      "metadata": {
        "id": "F-UYxho1RD-H"
      },
      "source": [
        "win_length = 60\n",
        "batch_size = 32\n",
        "num_features = 82\n",
        "train_generator = TimeseriesGenerator(X_train, y_train,\n",
        "                                     length=win_length,\n",
        "                                     sampling_rate=1,\n",
        "                                     batch_size=batch_size)\n",
        "\n",
        "test_generator = TimeseriesGenerator(X_test, y_test,\n",
        "                                     length=win_length,\n",
        "                                     sampling_rate=1,\n",
        "                                     batch_size=batch_size)\n",
        "\n",
        "valid_generator = TimeseriesGenerator(X_valid, y_valid,\n",
        "                                     length=win_length,\n",
        "                                     sampling_rate=1,\n",
        "                                     batch_size=batch_size)"
      ],
      "execution_count": null,
      "outputs": []
    }
  ]
}