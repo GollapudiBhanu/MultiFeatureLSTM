{
  "nbformat": 4,
  "nbformat_minor": 0,
  "metadata": {
    "colab": {
      "name": "LSTM_1.ipynb",
      "provenance": []
    },
    "kernelspec": {
      "name": "python3",
      "display_name": "Python 3"
    },
    "language_info": {
      "name": "python"
    }
  },
  "cells": [
    {
      "cell_type": "code",
      "metadata": {
        "colab": {
          "base_uri": "https://localhost:8080/"
        },
        "id": "PJeiU5AquR93",
        "outputId": "45c423b6-e92b-435c-f103-90f5684f61b4"
      },
      "source": [
        "from google.colab import drive \n",
        "drive.mount('gdrive')"
      ],
      "execution_count": 3,
      "outputs": [
        {
          "output_type": "stream",
          "name": "stdout",
          "text": [
            "Mounted at gdrive\n"
          ]
        }
      ]
    },
    {
      "cell_type": "code",
      "metadata": {
        "id": "DkZHZYskudWI"
      },
      "source": [
        "import pandas as pd\n",
        "from pprint import pprint\n",
        "import numpy as np\n",
        "from sklearn.model_selection import train_test_split\n",
        "import tensorflow as tf\n",
        "import tensorflow.keras as keras\n",
        "from tensorflow.keras.preprocessing.sequence import TimeseriesGenerator\n",
        "from tensorflow.keras import layers, models, backend as K, callbacks\n",
        "from keras.layers import LSTM\n",
        "from keras.models import load_model\n",
        "from keras.callbacks import ModelCheckpoint\n",
        "from sklearn.preprocessing import MinMaxScaler\n",
        "import numpy as np\n",
        "import pandas as pd\n",
        "from pprint import pprint\n",
        "import numpy as np\n",
        "from sklearn.model_selection import train_test_split\n",
        "import tensorflow as tf\n",
        "import tensorflow.keras as keras\n",
        "from tensorflow.keras.preprocessing.sequence import TimeseriesGenerator\n",
        "from tensorflow.keras import layers, models, backend as K, callbacks\n",
        "from keras.layers import LSTM\n",
        "from keras.models import load_model\n",
        "from keras.callbacks import ModelCheckpoint\n",
        "from sklearn import preprocessing\n",
        "from tensorflow.keras.optimizers import SGD\n",
        "from tensorflow.keras.utils import to_categorical\n",
        "from keras import regularizers\n"
      ],
      "execution_count": 4,
      "outputs": []
    },
    {
      "cell_type": "code",
      "metadata": {
        "id": "g5VxG1nVufX9"
      },
      "source": [
        "stock_market_df = pd.read_csv('/content/gdrive/MyDrive/Stock_market_label_data.csv')\n",
        "stock_market_df.head(10)"
      ],
      "execution_count": null,
      "outputs": []
    },
    {
      "cell_type": "code",
      "metadata": {
        "id": "4Z0iKI9puiLW"
      },
      "source": [
        "stock_market_df.drop(columns=['Company_Name', 'Unnamed: 0', 'Date', 'Name'], inplace=True)\n",
        "stock_market_df['Match'].replace('NAN', -10, inplace=True)"
      ],
      "execution_count": 6,
      "outputs": []
    },
    {
      "cell_type": "code",
      "metadata": {
        "colab": {
          "base_uri": "https://localhost:8080/"
        },
        "id": "6Rz3UsLlBgUP",
        "outputId": "37192612-7f4c-4d80-b3fd-8ac780043139"
      },
      "source": [
        "len(stock_market_df.columns)"
      ],
      "execution_count": 7,
      "outputs": [
        {
          "output_type": "execute_result",
          "data": {
            "text/plain": [
              "83"
            ]
          },
          "metadata": {},
          "execution_count": 7
        }
      ]
    },
    {
      "cell_type": "code",
      "metadata": {
        "id": "TKFS6ymGuoGk"
      },
      "source": [
        "y = stock_market_df.iloc[:, -1].astype(int).values\n",
        "stock_market_df_1 = stock_market_df.drop(columns=['Match'])\n",
        "X=stock_market_df_1.values"
      ],
      "execution_count": 8,
      "outputs": []
    },
    {
      "cell_type": "code",
      "metadata": {
        "id": "S9MeHCgLAU1A"
      },
      "source": [
        "X = np.array(X)\n",
        "y = np.array(y)"
      ],
      "execution_count": 9,
      "outputs": []
    },
    {
      "cell_type": "code",
      "metadata": {
        "id": "IPgUPGkpAUww"
      },
      "source": [
        "X_train, X_test, y_train, y_test = train_test_split(\n",
        "    X, y, test_size=0.1, shuffle=False\n",
        ")"
      ],
      "execution_count": 10,
      "outputs": []
    },
    {
      "cell_type": "code",
      "metadata": {
        "id": "gJa3wNNFCwY1"
      },
      "source": [
        "X_train"
      ],
      "execution_count": null,
      "outputs": []
    },
    {
      "cell_type": "code",
      "metadata": {
        "colab": {
          "base_uri": "https://localhost:8080/"
        },
        "id": "20rLEjlHC2GO",
        "outputId": "527999c8-8ae6-4fda-b0cb-31ad8ce098fa"
      },
      "source": [
        "y_train"
      ],
      "execution_count": 12,
      "outputs": [
        {
          "output_type": "execute_result",
          "data": {
            "text/plain": [
              "array([ 1,  1,  1, ..., -1, -1, -1])"
            ]
          },
          "metadata": {},
          "execution_count": 12
        }
      ]
    },
    {
      "cell_type": "code",
      "metadata": {
        "id": "IRR2uxZGAttu"
      },
      "source": [
        "X_train, X_valid, y_train, y_valid = train_test_split(\n",
        "    X_train, y_train, test_size=0.1, shuffle=False\n",
        ")"
      ],
      "execution_count": 13,
      "outputs": []
    },
    {
      "cell_type": "code",
      "metadata": {
        "colab": {
          "base_uri": "https://localhost:8080/"
        },
        "id": "GQigpUv6CyzS",
        "outputId": "7fcd145d-0304-4d44-d107-6ddec49dde24"
      },
      "source": [
        "X_valid.shape"
      ],
      "execution_count": 301,
      "outputs": [
        {
          "output_type": "execute_result",
          "data": {
            "text/plain": [
              "(1429, 82)"
            ]
          },
          "metadata": {},
          "execution_count": 301
        }
      ]
    },
    {
      "cell_type": "code",
      "metadata": {
        "id": "9g05ISYqA13Z"
      },
      "source": [
        "win_length = 60\n",
        "batch_size = 32\n",
        "num_features = 82\n",
        "train_generator = TimeseriesGenerator(np.array(X_train), np.array(y_train),\n",
        "                                     length=win_length,\n",
        "                                     sampling_rate=1,\n",
        "                                     batch_size=batch_size)\n",
        "\n",
        "test_generator = TimeseriesGenerator(np.array(X_test), np.array(y_test),\n",
        "                                     length=win_length,\n",
        "                                     sampling_rate=1,\n",
        "                                     batch_size=batch_size)\n",
        "\n",
        "valid_generator = TimeseriesGenerator(np.array(X_valid), np.array(y_valid),\n",
        "                                     length=win_length,\n",
        "                                     sampling_rate=1,\n",
        "                                     batch_size=batch_size)"
      ],
      "execution_count": 14,
      "outputs": []
    },
    {
      "cell_type": "code",
      "metadata": {
        "id": "grgdksj2Veki"
      },
      "source": [
        "model = tf.keras.Sequential()\n",
        "model.add(layers.LSTM(128, input_shape=(win_length, num_features), return_sequences=True))"
      ],
      "execution_count": 29,
      "outputs": []
    },
    {
      "cell_type": "code",
      "metadata": {
        "id": "iuuvGhi3GXOP"
      },
      "source": [
        "model = tf.keras.Sequential()\n",
        "model.add(layers.LSTM(128, input_shape=(win_length, num_features), return_sequences=True))\n",
        "model.add(layers.LeakyReLU(alpha=0.5))\n",
        "model.add(layers.Dropout(0.3))\n",
        "model.add(layers.LSTM(64, return_sequences=False))\n",
        "model.add(layers.Dropout(0.3))\n",
        "model.add(layers.Dense(64, activation='relu'))\n",
        "model.add(layers.Dense(1, activation='softmax'))"
      ],
      "execution_count": 15,
      "outputs": []
    },
    {
      "cell_type": "code",
      "metadata": {
        "id": "GwvAHh5J1lUu"
      },
      "source": [
        "model.summary()"
      ],
      "execution_count": null,
      "outputs": []
    },
    {
      "cell_type": "code",
      "metadata": {
        "id": "yzq86E7DuGHY"
      },
      "source": [
        "optimizer = keras.optimizers.Adam()\n",
        "\n",
        "early_stopping = tf.keras.callbacks.EarlyStopping(monitor='',\n",
        "                                                 patience=20,\n",
        "                                                 mode=\"min\")\n",
        "model.compile(optimizer=optimizer, loss=\"categorical_crossentropy\", \n",
        "                   metrics=[\"acc\"])\n",
        "\n",
        "model.fit_generator(train_generator,\n",
        "                   epochs=10,\n",
        "                   validation_data=valid_generator,\n",
        "                   shuffle=False)\n"
      ],
      "execution_count": null,
      "outputs": []
    },
    {
      "cell_type": "markdown",
      "metadata": {
        "id": "74fe_TQP3qJd"
      },
      "source": [
        "# ***New Data***"
      ]
    },
    {
      "cell_type": "code",
      "metadata": {
        "id": "QUWfKjUe6Utc"
      },
      "source": [
        "stock_market_df = pd.read_csv('/content/gdrive/MyDrive/Stock_market_label_data.csv')\n",
        "stock_market_df.head(10)"
      ],
      "execution_count": null,
      "outputs": []
    },
    {
      "cell_type": "code",
      "metadata": {
        "id": "a0kpWQ1h72N0"
      },
      "source": [
        "stock_market_df.shape"
      ],
      "execution_count": null,
      "outputs": []
    },
    {
      "cell_type": "code",
      "metadata": {
        "id": "HzRXUt6B6XY-"
      },
      "source": [
        "stock_market_df.drop(columns=['Company_Name', 'Unnamed: 0', 'Date', 'Name'], inplace=True)\n",
        "stock_market_df['Match'].replace('NAN', -10.0, inplace=True)\n",
        "stock_market_df = stock_market_df[: 15862]"
      ],
      "execution_count": 37,
      "outputs": []
    },
    {
      "cell_type": "code",
      "metadata": {
        "id": "2AQRtRhP6mXK"
      },
      "source": [
        "match_df = stock_market_df.iloc[:, -1:]"
      ],
      "execution_count": 38,
      "outputs": []
    },
    {
      "cell_type": "code",
      "metadata": {
        "id": "1xonzD3e7r98"
      },
      "source": [
        "match_df.info"
      ],
      "execution_count": null,
      "outputs": []
    },
    {
      "cell_type": "code",
      "metadata": {
        "id": "GaI7b9Ez6rB3"
      },
      "source": [
        "df1 = match_df['Match']\n",
        "df1 = pd.concat([df1, df1.shift(1)], axis=1)\n",
        "df1.dropna(inplace=True)"
      ],
      "execution_count": 40,
      "outputs": []
    },
    {
      "cell_type": "code",
      "metadata": {
        "id": "WB-Yekv77Gmt"
      },
      "source": [
        "df1 = df1.astype(float)"
      ],
      "execution_count": 41,
      "outputs": []
    },
    {
      "cell_type": "code",
      "metadata": {
        "id": "gj0hcvOn7b1o"
      },
      "source": [
        "values = df1.values"
      ],
      "execution_count": 42,
      "outputs": []
    },
    {
      "cell_type": "code",
      "metadata": {
        "id": "MI0YaX-57j3u"
      },
      "source": [
        "values"
      ],
      "execution_count": null,
      "outputs": []
    },
    {
      "cell_type": "code",
      "metadata": {
        "id": "6Uz1aNvY7An4"
      },
      "source": [
        "encoder = preprocessing.LabelEncoder()\n",
        "test_labels = to_categorical(encoder.fit_transform(values[:,-1]),num_classes=3)\n",
        "train_X,test_X,train_y,test_y= train_test_split(values[:,0], test_labels,test_size = 0.30,random_state = 42)"
      ],
      "execution_count": 45,
      "outputs": []
    },
    {
      "cell_type": "code",
      "metadata": {
        "id": "H-b0_pAh_LMx",
        "outputId": "10be4b2f-f6a6-48c5-e75b-10af0c71efeb",
        "colab": {
          "base_uri": "https://localhost:8080/"
        }
      },
      "source": [
        "train_X.shape"
      ],
      "execution_count": 46,
      "outputs": [
        {
          "output_type": "execute_result",
          "data": {
            "text/plain": [
              "(11102,)"
            ]
          },
          "metadata": {},
          "execution_count": 46
        }
      ]
    },
    {
      "cell_type": "code",
      "metadata": {
        "id": "QBoeDXA5_Tdf",
        "outputId": "73347f10-7e72-4eee-f4e2-91e60003b383",
        "colab": {
          "base_uri": "https://localhost:8080/"
        }
      },
      "source": [
        "test_X.shape"
      ],
      "execution_count": 47,
      "outputs": [
        {
          "output_type": "execute_result",
          "data": {
            "text/plain": [
              "(4759,)"
            ]
          },
          "metadata": {},
          "execution_count": 47
        }
      ]
    },
    {
      "cell_type": "code",
      "metadata": {
        "id": "bVxPCcJe_Vio",
        "outputId": "99c68f52-8336-405f-958a-57807fab2bb1",
        "colab": {
          "base_uri": "https://localhost:8080/"
        }
      },
      "source": [
        "train_y.shape"
      ],
      "execution_count": 48,
      "outputs": [
        {
          "output_type": "execute_result",
          "data": {
            "text/plain": [
              "(11102, 3)"
            ]
          },
          "metadata": {},
          "execution_count": 48
        }
      ]
    },
    {
      "cell_type": "code",
      "metadata": {
        "id": "Q8qRBZvi_Xlo",
        "outputId": "d0437d9e-3fc8-4c0e-a2db-dcc3f0adc532",
        "colab": {
          "base_uri": "https://localhost:8080/"
        }
      },
      "source": [
        "test_y.shape"
      ],
      "execution_count": 49,
      "outputs": [
        {
          "output_type": "execute_result",
          "data": {
            "text/plain": [
              "(4759, 3)"
            ]
          },
          "metadata": {},
          "execution_count": 49
        }
      ]
    },
    {
      "cell_type": "code",
      "metadata": {
        "id": "bRhDJCD18DQy"
      },
      "source": [
        "train_X = train_X.reshape(train_X.shape[0],1,1)\n",
        "test_X = test_X.reshape(test_X.shape[0],1,1)"
      ],
      "execution_count": 50,
      "outputs": []
    },
    {
      "cell_type": "code",
      "metadata": {
        "id": "x5GhRFvJ-_KL",
        "outputId": "38a5ced8-b778-404f-cbe7-3388d6e0385d",
        "colab": {
          "base_uri": "https://localhost:8080/"
        }
      },
      "source": [
        "train_y.shape"
      ],
      "execution_count": 51,
      "outputs": [
        {
          "output_type": "execute_result",
          "data": {
            "text/plain": [
              "(11102, 3)"
            ]
          },
          "metadata": {},
          "execution_count": 51
        }
      ]
    },
    {
      "cell_type": "code",
      "metadata": {
        "id": "lI5fqER--6i1",
        "outputId": "06514523-4ae8-4432-d4da-fd4a9bde081c",
        "colab": {
          "base_uri": "https://localhost:8080/"
        }
      },
      "source": [
        "test_X.shape"
      ],
      "execution_count": 52,
      "outputs": [
        {
          "output_type": "execute_result",
          "data": {
            "text/plain": [
              "(4759, 1, 1)"
            ]
          },
          "metadata": {},
          "execution_count": 52
        }
      ]
    },
    {
      "cell_type": "code",
      "metadata": {
        "id": "SmKIZdj1_fNz",
        "outputId": "446c5d9d-f963-4065-f9fc-f90411b5fb03",
        "colab": {
          "base_uri": "https://localhost:8080/"
        }
      },
      "source": [
        "train_X.shape"
      ],
      "execution_count": 53,
      "outputs": [
        {
          "output_type": "execute_result",
          "data": {
            "text/plain": [
              "(11102, 1, 1)"
            ]
          },
          "metadata": {},
          "execution_count": 53
        }
      ]
    },
    {
      "cell_type": "code",
      "metadata": {
        "id": "R4eyYmI88LHi"
      },
      "source": [
        "n_batch = 1\n",
        "n_epoch = 10\n",
        "n_neurons = 100"
      ],
      "execution_count": 376,
      "outputs": []
    },
    {
      "cell_type": "code",
      "metadata": {
        "colab": {
          "base_uri": "https://localhost:8080/"
        },
        "id": "pRidWUY38OWH",
        "outputId": "a04ab19c-ce9c-43d9-89f4-9be7ded5df69"
      },
      "source": [
        "tf.keras.backend.clear_session()\n",
        "\n",
        "model = tf.keras.models.Sequential([\n",
        "    tf.keras.layers.LSTM(n_neurons, batch_input_shape=(n_batch, train_X.shape[1],train_X.shape[2]), stateful=True),\n",
        "    tf.keras.layers.Dense(64, activation='relu'),\n",
        "    tf.keras.layers.Dense(100, activation = 'relu',kernel_regularizer=regularizers.l2(0.0001)),\n",
        "    tf.keras.layers.Dense(3, activation='softmax')\n",
        "])\n",
        "\n",
        "model.summary()\n",
        "model.compile(optimizer='rmsprop',\n",
        "              loss='categorical_crossentropy',\n",
        "              metrics=['acc'])\n",
        "history = model.fit(train_X,train_y,validation_data=(test_X, test_y),epochs=n_epoch, batch_size=n_batch, verbose=1,shuffle= False)"
      ],
      "execution_count": 379,
      "outputs": [
        {
          "output_type": "stream",
          "name": "stdout",
          "text": [
            "Model: \"sequential\"\n",
            "_________________________________________________________________\n",
            "Layer (type)                 Output Shape              Param #   \n",
            "=================================================================\n",
            "lstm (LSTM)                  (1, 100)                  40800     \n",
            "_________________________________________________________________\n",
            "dense (Dense)                (1, 64)                   6464      \n",
            "_________________________________________________________________\n",
            "dense_1 (Dense)              (1, 100)                  6500      \n",
            "_________________________________________________________________\n",
            "dense_2 (Dense)              (1, 3)                    303       \n",
            "=================================================================\n",
            "Total params: 54,067\n",
            "Trainable params: 54,067\n",
            "Non-trainable params: 0\n",
            "_________________________________________________________________\n",
            "Epoch 1/10\n",
            "11102/11102 [==============================] - 37s 3ms/step - loss: 0.6813 - acc: 0.6072 - val_loss: 0.6676 - val_acc: 0.6260\n",
            "Epoch 2/10\n",
            "11102/11102 [==============================] - 35s 3ms/step - loss: 0.6746 - acc: 0.6121 - val_loss: 0.6731 - val_acc: 0.6260\n",
            "Epoch 3/10\n",
            "11102/11102 [==============================] - 36s 3ms/step - loss: 0.6723 - acc: 0.6188 - val_loss: 0.6767 - val_acc: 0.6073\n",
            "Epoch 4/10\n",
            "11102/11102 [==============================] - 37s 3ms/step - loss: 0.6719 - acc: 0.6193 - val_loss: 0.6755 - val_acc: 0.6167\n",
            "Epoch 5/10\n",
            "11102/11102 [==============================] - 47s 4ms/step - loss: 0.6712 - acc: 0.6187 - val_loss: 0.6752 - val_acc: 0.6260\n",
            "Epoch 6/10\n",
            "11102/11102 [==============================] - 51s 5ms/step - loss: 0.6709 - acc: 0.6195 - val_loss: 0.6735 - val_acc: 0.6260\n",
            "Epoch 7/10\n",
            "11102/11102 [==============================] - 35s 3ms/step - loss: 0.6700 - acc: 0.6202 - val_loss: 0.6752 - val_acc: 0.6260\n",
            "Epoch 8/10\n",
            "11102/11102 [==============================] - 33s 3ms/step - loss: 0.6706 - acc: 0.6192 - val_loss: 0.6750 - val_acc: 0.6260\n",
            "Epoch 9/10\n",
            "11102/11102 [==============================] - 34s 3ms/step - loss: 0.6703 - acc: 0.6202 - val_loss: 0.6734 - val_acc: 0.6260\n",
            "Epoch 10/10\n",
            "11102/11102 [==============================] - 35s 3ms/step - loss: 0.6698 - acc: 0.6225 - val_loss: 0.6731 - val_acc: 0.6260\n"
          ]
        }
      ]
    }
  ]
}