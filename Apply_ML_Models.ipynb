{
  "nbformat": 4,
  "nbformat_minor": 0,
  "metadata": {
    "colab": {
      "name": "Apply ML Models.ipynb",
      "provenance": []
    },
    "kernelspec": {
      "name": "python3",
      "display_name": "Python 3"
    },
    "language_info": {
      "name": "python"
    }
  },
  "cells": [
    {
      "cell_type": "code",
      "metadata": {
        "colab": {
          "base_uri": "https://localhost:8080/"
        },
        "id": "gedioYJhYCpP",
        "outputId": "be7e1185-1cb2-4617-9b95-982dc6a862a1"
      },
      "source": [
        "!pip install lightgbm"
      ],
      "execution_count": 1,
      "outputs": [
        {
          "output_type": "stream",
          "name": "stdout",
          "text": [
            "Requirement already satisfied: lightgbm in /usr/local/lib/python3.7/dist-packages (2.2.3)\n",
            "Requirement already satisfied: scikit-learn in /usr/local/lib/python3.7/dist-packages (from lightgbm) (0.22.2.post1)\n",
            "Requirement already satisfied: scipy in /usr/local/lib/python3.7/dist-packages (from lightgbm) (1.4.1)\n",
            "Requirement already satisfied: numpy in /usr/local/lib/python3.7/dist-packages (from lightgbm) (1.19.5)\n",
            "Requirement already satisfied: joblib>=0.11 in /usr/local/lib/python3.7/dist-packages (from scikit-learn->lightgbm) (1.0.1)\n"
          ]
        }
      ]
    },
    {
      "cell_type": "code",
      "metadata": {
        "colab": {
          "base_uri": "https://localhost:8080/"
        },
        "id": "DAJVuDvhYJLC",
        "outputId": "f0a1fc9d-e752-4441-a62d-ab032970cad5"
      },
      "source": [
        "from google.colab import drive \n",
        "drive.mount('gdrive')"
      ],
      "execution_count": 2,
      "outputs": [
        {
          "output_type": "stream",
          "name": "stdout",
          "text": [
            "Mounted at gdrive\n"
          ]
        }
      ]
    },
    {
      "cell_type": "code",
      "metadata": {
        "id": "7OzLKbRCYVc5"
      },
      "source": [
        "import pandas as pd\n",
        "from pprint import pprint\n",
        "import numpy as np\n",
        "from numpy import absolute\n",
        "from pandas import read_csv\n",
        "from sklearn.model_selection import cross_val_score\n",
        "from sklearn.model_selection import RepeatedKFold\n",
        "from xgboost import XGBRegressor\n",
        "from numpy import loadtxt\n",
        "from xgboost import XGBClassifier\n",
        "from sklearn.model_selection import train_test_split\n",
        "from sklearn.metrics import accuracy_score\n",
        "from sklearn.ensemble import AdaBoostClassifier, GradientBoostingClassifier\n",
        "from sklearn.model_selection import GridSearchCV\n",
        "from sklearn.metrics import classification_report, confusion_matrix, accuracy_score\n",
        "from sklearn.ensemble import RandomForestClassifier\n",
        "import lightgbm as lgb"
      ],
      "execution_count": 166,
      "outputs": []
    },
    {
      "cell_type": "code",
      "metadata": {
        "id": "KXRSWkUEYf6F"
      },
      "source": [
        "stock_market_df = pd.read_csv('/content/gdrive/MyDrive/Stock_market_label_data.csv')\n",
        "stock_market_df.head(10)"
      ],
      "execution_count": null,
      "outputs": []
    },
    {
      "cell_type": "code",
      "metadata": {
        "id": "323ij242eNnA"
      },
      "source": [
        "stock_market_df.drop(columns=['Company_Name', 'Unnamed: 0', 'Date', 'Name'], inplace=True)"
      ],
      "execution_count": 139,
      "outputs": []
    },
    {
      "cell_type": "code",
      "metadata": {
        "id": "lwWjhvteh8mQ"
      },
      "source": [
        "stock_market_df['Match'].replace('NAN', -10, inplace=True)"
      ],
      "execution_count": 140,
      "outputs": []
    },
    {
      "cell_type": "code",
      "metadata": {
        "id": "x2k7kMuQZnOn"
      },
      "source": [
        "y = stock_market_df.iloc[:, -1].astype(int)\n",
        "stock_market_df_1 = stock_market_df.drop(columns=['Match'])\n",
        "X=stock_market_df_1"
      ],
      "execution_count": 141,
      "outputs": []
    },
    {
      "cell_type": "code",
      "metadata": {
        "id": "TN-v_hLDidIg"
      },
      "source": [
        "stock_market_df_1.info()"
      ],
      "execution_count": null,
      "outputs": []
    },
    {
      "cell_type": "code",
      "metadata": {
        "id": "J4lKgKvMaelg"
      },
      "source": [
        "X_train, X_test, y_train, y_test = train_test_split(X, y, test_size=0.2, random_state=42)"
      ],
      "execution_count": 143,
      "outputs": []
    },
    {
      "cell_type": "markdown",
      "metadata": {
        "id": "lCkYsvtbmjr6"
      },
      "source": [
        ""
      ]
    },
    {
      "cell_type": "code",
      "metadata": {
        "id": "kP0WSYZEda_K"
      },
      "source": [
        "model = XGBClassifier()"
      ],
      "execution_count": 161,
      "outputs": []
    },
    {
      "cell_type": "code",
      "metadata": {
        "colab": {
          "base_uri": "https://localhost:8080/"
        },
        "id": "M-7vQT-ngYO5",
        "outputId": "be836720-1d86-4d70-f5f3-600753753002"
      },
      "source": [
        "model.fit(X_train, y_train)"
      ],
      "execution_count": 162,
      "outputs": [
        {
          "output_type": "execute_result",
          "data": {
            "text/plain": [
              "XGBClassifier(base_score=0.5, booster='gbtree', colsample_bylevel=1,\n",
              "              colsample_bynode=1, colsample_bytree=1, gamma=0,\n",
              "              learning_rate=0.1, max_delta_step=0, max_depth=3,\n",
              "              min_child_weight=1, missing=None, n_estimators=100, n_jobs=1,\n",
              "              nthread=None, objective='multi:softprob', random_state=0,\n",
              "              reg_alpha=0, reg_lambda=1, scale_pos_weight=1, seed=None,\n",
              "              silent=None, subsample=1, verbosity=1)"
            ]
          },
          "metadata": {},
          "execution_count": 162
        }
      ]
    },
    {
      "cell_type": "code",
      "metadata": {
        "id": "aSAbTdwvj9L1"
      },
      "source": [
        "y_pred = model.predict(X_test)"
      ],
      "execution_count": 163,
      "outputs": []
    },
    {
      "cell_type": "code",
      "metadata": {
        "id": "EoLZZWXzkEkc"
      },
      "source": [
        "accuracy = accuracy_score(y_test, y_pred)"
      ],
      "execution_count": 164,
      "outputs": []
    },
    {
      "cell_type": "code",
      "metadata": {
        "colab": {
          "base_uri": "https://localhost:8080/"
        },
        "id": "PT00NbTokGeb",
        "outputId": "e127d103-c135-4f90-e5e9-a30740cc9110"
      },
      "source": [
        "print(accuracy)"
      ],
      "execution_count": 165,
      "outputs": [
        {
          "output_type": "stream",
          "name": "stdout",
          "text": [
            "0.7492913385826772\n"
          ]
        }
      ]
    },
    {
      "cell_type": "markdown",
      "metadata": {
        "id": "8qPak_rhno_2"
      },
      "source": [
        "#**Gradient Boosting Classifier**"
      ]
    },
    {
      "cell_type": "code",
      "metadata": {
        "colab": {
          "base_uri": "https://localhost:8080/"
        },
        "id": "U5h1DnzPoPmF",
        "outputId": "bbd43d1c-925c-4fa7-d4e7-f1c9fd90df64"
      },
      "source": [
        "grad_model = GradientBoostingClassifier()\n",
        "param_grid_clf = {\"n_estimators\": [50], \"learning_rate\": [0.1, 0.5, 1] }\n",
        "grid_search = GridSearchCV(grad_model, param_grid_clf, cv=5, scoring=\"accuracy\")\n",
        "grid_search.fit(X_train, y_train)\n",
        "cv_results = grid_search.cv_results_\n",
        "for mean_score, std_score, params in zip(cv_results[\"mean_test_score\"], cv_results[\"std_test_score\"], cv_results[\"params\"]):\n",
        "    print(mean_score, std_score, params)\n",
        "  "
      ],
      "execution_count": 154,
      "outputs": [
        {
          "output_type": "stream",
          "name": "stderr",
          "text": [
            "/usr/local/lib/python3.7/dist-packages/sklearn/model_selection/_split.py:667: UserWarning: The least populated class in y has only 1 members, which is less than n_splits=5.\n",
            "  % (min_groups, self.n_splits)), UserWarning)\n"
          ]
        },
        {
          "output_type": "stream",
          "name": "stdout",
          "text": [
            "0.7387569661314982 0.010901570464261387 {'learning_rate': 0.1, 'n_estimators': 50}\n",
            "0.7545868700244688 0.011185582621015861 {'learning_rate': 0.5, 'n_estimators': 50}\n",
            "0.7460025802209934 0.005262367570724859 {'learning_rate': 1, 'n_estimators': 50}\n"
          ]
        }
      ]
    },
    {
      "cell_type": "markdown",
      "metadata": {
        "id": "rmEOik5vo776"
      },
      "source": [
        "# **Random forest Classifier**"
      ]
    },
    {
      "cell_type": "code",
      "metadata": {
        "colab": {
          "base_uri": "https://localhost:8080/"
        },
        "id": "LHz2_LpVo_ew",
        "outputId": "e5b6e094-f94c-415c-a597-f2b8a717eba8"
      },
      "source": [
        "classifier = RandomForestClassifier(n_estimators = 100)\n",
        "classifier.fit(X_train, y_train)\n",
        "y_pred = classifier.predict(X_test)\n",
        "\n",
        "score = accuracy_score(y_test,y_pred)\n",
        "print(\"Accuracy:\",score)"
      ],
      "execution_count": 160,
      "outputs": [
        {
          "output_type": "stream",
          "name": "stdout",
          "text": [
            "Accuracy: 0.7521259842519685\n"
          ]
        }
      ]
    },
    {
      "cell_type": "markdown",
      "metadata": {
        "id": "xGowBVT8rfZm"
      },
      "source": [
        "# **LightGBM Classifier**"
      ]
    },
    {
      "cell_type": "code",
      "metadata": {
        "id": "8qXRcr7Crmbp"
      },
      "source": [
        "lgbm_model = lgb.LGBMClassifier()"
      ],
      "execution_count": 167,
      "outputs": []
    },
    {
      "cell_type": "code",
      "metadata": {
        "colab": {
          "base_uri": "https://localhost:8080/"
        },
        "id": "ij3RTO4srsxb",
        "outputId": "435b36f7-c56f-4301-e988-926517c34e59"
      },
      "source": [
        "lgbm_model.fit(X_train, y_train)"
      ],
      "execution_count": 168,
      "outputs": [
        {
          "output_type": "execute_result",
          "data": {
            "text/plain": [
              "LGBMClassifier(boosting_type='gbdt', class_weight=None, colsample_bytree=1.0,\n",
              "               importance_type='split', learning_rate=0.1, max_depth=-1,\n",
              "               min_child_samples=20, min_child_weight=0.001, min_split_gain=0.0,\n",
              "               n_estimators=100, n_jobs=-1, num_leaves=31, objective=None,\n",
              "               random_state=None, reg_alpha=0.0, reg_lambda=0.0, silent=True,\n",
              "               subsample=1.0, subsample_for_bin=200000, subsample_freq=0)"
            ]
          },
          "metadata": {},
          "execution_count": 168
        }
      ]
    },
    {
      "cell_type": "code",
      "metadata": {
        "id": "kROXbp1krwWf"
      },
      "source": [
        "y_pred=lgbm_model.predict(X_test)"
      ],
      "execution_count": 169,
      "outputs": []
    },
    {
      "cell_type": "code",
      "metadata": {
        "colab": {
          "base_uri": "https://localhost:8080/"
        },
        "id": "Tn6uxb3jr1Nu",
        "outputId": "0f219b74-4d8d-4a59-f31d-821cacbe8e48"
      },
      "source": [
        "accuracy=accuracy_score(y_test, y_pred)\n",
        "print('LightGBM Model accuracy score: {0:0.4f}'.format(accuracy))"
      ],
      "execution_count": 170,
      "outputs": [
        {
          "output_type": "stream",
          "name": "stdout",
          "text": [
            "LightGBM Model accuracy score: 0.7436\n"
          ]
        }
      ]
    }
  ]
}